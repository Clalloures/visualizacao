{
 "cells": [
  {
   "cell_type": "code",
   "execution_count": 1,
   "metadata": {},
   "outputs": [],
   "source": [
    "from viz_mekko import *"
   ]
  },
  {
   "cell_type": "code",
   "execution_count": 2,
   "metadata": {},
   "outputs": [],
   "source": [
    "df = pd.read_csv('athlete_events.csv')"
   ]
  },
  {
   "cell_type": "code",
   "execution_count": 3,
   "metadata": {},
   "outputs": [
    {
     "data": {
      "text/html": [
       "<div>\n",
       "<style scoped>\n",
       "    .dataframe tbody tr th:only-of-type {\n",
       "        vertical-align: middle;\n",
       "    }\n",
       "\n",
       "    .dataframe tbody tr th {\n",
       "        vertical-align: top;\n",
       "    }\n",
       "\n",
       "    .dataframe thead th {\n",
       "        text-align: right;\n",
       "    }\n",
       "</style>\n",
       "<table border=\"1\" class=\"dataframe\">\n",
       "  <thead>\n",
       "    <tr style=\"text-align: right;\">\n",
       "      <th></th>\n",
       "      <th>ID</th>\n",
       "      <th>Name</th>\n",
       "      <th>Sex</th>\n",
       "      <th>Age</th>\n",
       "      <th>Height</th>\n",
       "      <th>Weight</th>\n",
       "      <th>Team</th>\n",
       "      <th>NOC</th>\n",
       "      <th>Games</th>\n",
       "      <th>Year</th>\n",
       "      <th>Season</th>\n",
       "      <th>City</th>\n",
       "      <th>Sport</th>\n",
       "      <th>Event</th>\n",
       "      <th>Medal</th>\n",
       "    </tr>\n",
       "  </thead>\n",
       "  <tbody>\n",
       "    <tr>\n",
       "      <th>0</th>\n",
       "      <td>1</td>\n",
       "      <td>A Dijiang</td>\n",
       "      <td>M</td>\n",
       "      <td>24.0</td>\n",
       "      <td>180.0</td>\n",
       "      <td>80.0</td>\n",
       "      <td>China</td>\n",
       "      <td>CHN</td>\n",
       "      <td>1992 Summer</td>\n",
       "      <td>1992</td>\n",
       "      <td>Summer</td>\n",
       "      <td>Barcelona</td>\n",
       "      <td>Basketball</td>\n",
       "      <td>Basketball Men's Basketball</td>\n",
       "      <td>NaN</td>\n",
       "    </tr>\n",
       "    <tr>\n",
       "      <th>1</th>\n",
       "      <td>2</td>\n",
       "      <td>A Lamusi</td>\n",
       "      <td>M</td>\n",
       "      <td>23.0</td>\n",
       "      <td>170.0</td>\n",
       "      <td>60.0</td>\n",
       "      <td>China</td>\n",
       "      <td>CHN</td>\n",
       "      <td>2012 Summer</td>\n",
       "      <td>2012</td>\n",
       "      <td>Summer</td>\n",
       "      <td>London</td>\n",
       "      <td>Judo</td>\n",
       "      <td>Judo Men's Extra-Lightweight</td>\n",
       "      <td>NaN</td>\n",
       "    </tr>\n",
       "    <tr>\n",
       "      <th>2</th>\n",
       "      <td>3</td>\n",
       "      <td>Gunnar Nielsen Aaby</td>\n",
       "      <td>M</td>\n",
       "      <td>24.0</td>\n",
       "      <td>NaN</td>\n",
       "      <td>NaN</td>\n",
       "      <td>Denmark</td>\n",
       "      <td>DEN</td>\n",
       "      <td>1920 Summer</td>\n",
       "      <td>1920</td>\n",
       "      <td>Summer</td>\n",
       "      <td>Antwerpen</td>\n",
       "      <td>Football</td>\n",
       "      <td>Football Men's Football</td>\n",
       "      <td>NaN</td>\n",
       "    </tr>\n",
       "    <tr>\n",
       "      <th>3</th>\n",
       "      <td>4</td>\n",
       "      <td>Edgar Lindenau Aabye</td>\n",
       "      <td>M</td>\n",
       "      <td>34.0</td>\n",
       "      <td>NaN</td>\n",
       "      <td>NaN</td>\n",
       "      <td>Denmark/Sweden</td>\n",
       "      <td>DEN</td>\n",
       "      <td>1900 Summer</td>\n",
       "      <td>1900</td>\n",
       "      <td>Summer</td>\n",
       "      <td>Paris</td>\n",
       "      <td>Tug-Of-War</td>\n",
       "      <td>Tug-Of-War Men's Tug-Of-War</td>\n",
       "      <td>Gold</td>\n",
       "    </tr>\n",
       "    <tr>\n",
       "      <th>4</th>\n",
       "      <td>5</td>\n",
       "      <td>Christine Jacoba Aaftink</td>\n",
       "      <td>F</td>\n",
       "      <td>21.0</td>\n",
       "      <td>185.0</td>\n",
       "      <td>82.0</td>\n",
       "      <td>Netherlands</td>\n",
       "      <td>NED</td>\n",
       "      <td>1988 Winter</td>\n",
       "      <td>1988</td>\n",
       "      <td>Winter</td>\n",
       "      <td>Calgary</td>\n",
       "      <td>Speed Skating</td>\n",
       "      <td>Speed Skating Women's 500 metres</td>\n",
       "      <td>NaN</td>\n",
       "    </tr>\n",
       "    <tr>\n",
       "      <th>...</th>\n",
       "      <td>...</td>\n",
       "      <td>...</td>\n",
       "      <td>...</td>\n",
       "      <td>...</td>\n",
       "      <td>...</td>\n",
       "      <td>...</td>\n",
       "      <td>...</td>\n",
       "      <td>...</td>\n",
       "      <td>...</td>\n",
       "      <td>...</td>\n",
       "      <td>...</td>\n",
       "      <td>...</td>\n",
       "      <td>...</td>\n",
       "      <td>...</td>\n",
       "      <td>...</td>\n",
       "    </tr>\n",
       "    <tr>\n",
       "      <th>271111</th>\n",
       "      <td>135569</td>\n",
       "      <td>Andrzej ya</td>\n",
       "      <td>M</td>\n",
       "      <td>29.0</td>\n",
       "      <td>179.0</td>\n",
       "      <td>89.0</td>\n",
       "      <td>Poland-1</td>\n",
       "      <td>POL</td>\n",
       "      <td>1976 Winter</td>\n",
       "      <td>1976</td>\n",
       "      <td>Winter</td>\n",
       "      <td>Innsbruck</td>\n",
       "      <td>Luge</td>\n",
       "      <td>Luge Mixed (Men)'s Doubles</td>\n",
       "      <td>NaN</td>\n",
       "    </tr>\n",
       "    <tr>\n",
       "      <th>271112</th>\n",
       "      <td>135570</td>\n",
       "      <td>Piotr ya</td>\n",
       "      <td>M</td>\n",
       "      <td>27.0</td>\n",
       "      <td>176.0</td>\n",
       "      <td>59.0</td>\n",
       "      <td>Poland</td>\n",
       "      <td>POL</td>\n",
       "      <td>2014 Winter</td>\n",
       "      <td>2014</td>\n",
       "      <td>Winter</td>\n",
       "      <td>Sochi</td>\n",
       "      <td>Ski Jumping</td>\n",
       "      <td>Ski Jumping Men's Large Hill, Individual</td>\n",
       "      <td>NaN</td>\n",
       "    </tr>\n",
       "    <tr>\n",
       "      <th>271113</th>\n",
       "      <td>135570</td>\n",
       "      <td>Piotr ya</td>\n",
       "      <td>M</td>\n",
       "      <td>27.0</td>\n",
       "      <td>176.0</td>\n",
       "      <td>59.0</td>\n",
       "      <td>Poland</td>\n",
       "      <td>POL</td>\n",
       "      <td>2014 Winter</td>\n",
       "      <td>2014</td>\n",
       "      <td>Winter</td>\n",
       "      <td>Sochi</td>\n",
       "      <td>Ski Jumping</td>\n",
       "      <td>Ski Jumping Men's Large Hill, Team</td>\n",
       "      <td>NaN</td>\n",
       "    </tr>\n",
       "    <tr>\n",
       "      <th>271114</th>\n",
       "      <td>135571</td>\n",
       "      <td>Tomasz Ireneusz ya</td>\n",
       "      <td>M</td>\n",
       "      <td>30.0</td>\n",
       "      <td>185.0</td>\n",
       "      <td>96.0</td>\n",
       "      <td>Poland</td>\n",
       "      <td>POL</td>\n",
       "      <td>1998 Winter</td>\n",
       "      <td>1998</td>\n",
       "      <td>Winter</td>\n",
       "      <td>Nagano</td>\n",
       "      <td>Bobsleigh</td>\n",
       "      <td>Bobsleigh Men's Four</td>\n",
       "      <td>NaN</td>\n",
       "    </tr>\n",
       "    <tr>\n",
       "      <th>271115</th>\n",
       "      <td>135571</td>\n",
       "      <td>Tomasz Ireneusz ya</td>\n",
       "      <td>M</td>\n",
       "      <td>34.0</td>\n",
       "      <td>185.0</td>\n",
       "      <td>96.0</td>\n",
       "      <td>Poland</td>\n",
       "      <td>POL</td>\n",
       "      <td>2002 Winter</td>\n",
       "      <td>2002</td>\n",
       "      <td>Winter</td>\n",
       "      <td>Salt Lake City</td>\n",
       "      <td>Bobsleigh</td>\n",
       "      <td>Bobsleigh Men's Four</td>\n",
       "      <td>NaN</td>\n",
       "    </tr>\n",
       "  </tbody>\n",
       "</table>\n",
       "<p>271116 rows × 15 columns</p>\n",
       "</div>"
      ],
      "text/plain": [
       "            ID                      Name Sex   Age  Height  Weight  \\\n",
       "0            1                 A Dijiang   M  24.0   180.0    80.0   \n",
       "1            2                  A Lamusi   M  23.0   170.0    60.0   \n",
       "2            3       Gunnar Nielsen Aaby   M  24.0     NaN     NaN   \n",
       "3            4      Edgar Lindenau Aabye   M  34.0     NaN     NaN   \n",
       "4            5  Christine Jacoba Aaftink   F  21.0   185.0    82.0   \n",
       "...        ...                       ...  ..   ...     ...     ...   \n",
       "271111  135569                Andrzej ya   M  29.0   179.0    89.0   \n",
       "271112  135570                  Piotr ya   M  27.0   176.0    59.0   \n",
       "271113  135570                  Piotr ya   M  27.0   176.0    59.0   \n",
       "271114  135571        Tomasz Ireneusz ya   M  30.0   185.0    96.0   \n",
       "271115  135571        Tomasz Ireneusz ya   M  34.0   185.0    96.0   \n",
       "\n",
       "                  Team  NOC        Games  Year  Season            City  \\\n",
       "0                China  CHN  1992 Summer  1992  Summer       Barcelona   \n",
       "1                China  CHN  2012 Summer  2012  Summer          London   \n",
       "2              Denmark  DEN  1920 Summer  1920  Summer       Antwerpen   \n",
       "3       Denmark/Sweden  DEN  1900 Summer  1900  Summer           Paris   \n",
       "4          Netherlands  NED  1988 Winter  1988  Winter         Calgary   \n",
       "...                ...  ...          ...   ...     ...             ...   \n",
       "271111        Poland-1  POL  1976 Winter  1976  Winter       Innsbruck   \n",
       "271112          Poland  POL  2014 Winter  2014  Winter           Sochi   \n",
       "271113          Poland  POL  2014 Winter  2014  Winter           Sochi   \n",
       "271114          Poland  POL  1998 Winter  1998  Winter          Nagano   \n",
       "271115          Poland  POL  2002 Winter  2002  Winter  Salt Lake City   \n",
       "\n",
       "                Sport                                     Event Medal  \n",
       "0          Basketball               Basketball Men's Basketball   NaN  \n",
       "1                Judo              Judo Men's Extra-Lightweight   NaN  \n",
       "2            Football                   Football Men's Football   NaN  \n",
       "3          Tug-Of-War               Tug-Of-War Men's Tug-Of-War  Gold  \n",
       "4       Speed Skating          Speed Skating Women's 500 metres   NaN  \n",
       "...               ...                                       ...   ...  \n",
       "271111           Luge                Luge Mixed (Men)'s Doubles   NaN  \n",
       "271112    Ski Jumping  Ski Jumping Men's Large Hill, Individual   NaN  \n",
       "271113    Ski Jumping        Ski Jumping Men's Large Hill, Team   NaN  \n",
       "271114      Bobsleigh                      Bobsleigh Men's Four   NaN  \n",
       "271115      Bobsleigh                      Bobsleigh Men's Four   NaN  \n",
       "\n",
       "[271116 rows x 15 columns]"
      ]
     },
     "execution_count": 3,
     "metadata": {},
     "output_type": "execute_result"
    }
   ],
   "source": [
    "df"
   ]
  },
  {
   "cell_type": "code",
   "execution_count": 6,
   "metadata": {},
   "outputs": [],
   "source": [
    "def plot_marimekko(dataframe, country):\n",
    "    unique_years = dataframe['Year'].unique()\n",
    "    # Filter data for the specified country\n",
    "    df_country = dataframe[dataframe['NOC'] == country]\n",
    "    df_country.loc[:, 'Medal'] = df_country['Medal'].replace({'Silver': 'Prata', 'Gold': 'Ouro'})\n",
    "\n",
    "\n",
    "    # Group by year and medal type and count the number of medals\n",
    "    medal_counts = df_country.groupby(['Year', 'Medal']).size().reset_index(name='count')\n",
    "    medal_counts = fill_in_years(medal_counts, unique_years)\n",
    "    # Pivot the dataframe to have medal types as columns\n",
    "    medal_pivot = medal_counts.pivot(index='Year', columns='Medal', values='count').fillna(0)\n",
    "\n",
    "    # Calculate total medals per year and proportions for each medal type\n",
    "    medal_pivot['total'] = medal_pivot.sum(axis=1)\n",
    "    for medal in ['Ouro', 'Prata', 'Bronze']:\n",
    "        medal_pivot[f'Medalhas de {medal}'] = medal_pivot[medal] / medal_pivot['total']\n",
    "\n",
    "    # Normalize widths based on the total medals to fit the graph size\n",
    "    total_medals = medal_pivot['total'].sum()\n",
    "    medal_pivot['width'] = medal_pivot['total'] / total_medals\n",
    "\n",
    "    # Compute the x positions for bars to ensure they do not overlap\n",
    "    x_positions = [0]  # Starting position for the first bar\n",
    "    for width in medal_pivot['width'][:-1]:\n",
    "        x_positions.append(x_positions[-1] + width + 0.05)  # Add small gap between bars\n",
    "    medal_pivot['x'] = x_positions\n",
    "\n",
    "    # Create the Marimekko chart with adjusted x-axis\n",
    "    fig = go.Figure()\n",
    "\n",
    "    # Add bronze trace first\n",
    "    fig.add_trace(go.Bar(\n",
    "        x=medal_pivot['x'],\n",
    "        y=medal_pivot['Medalhas de Bronze'],\n",
    "        width=medal_pivot['width'],\n",
    "        base=0,\n",
    "        marker=dict(color='#cd7f32'),\n",
    "        name='Bronze',\n",
    "        customdata=medal_pivot['total'],\n",
    "        hovertemplate='Year: %{x}<br>Total de Medalhas: %{customdata}<br>Proporção de Bronzes: %{y:.2f}<extra></extra>',\n",
    "    ))\n",
    "\n",
    "    # Add silver trace second\n",
    "    fig.add_trace(go.Bar(\n",
    "        x=medal_pivot['x'],\n",
    "        y=medal_pivot['Medalhas de Prata'],\n",
    "        width=medal_pivot['width'],\n",
    "        base=medal_pivot['Medalhas de Bronze'],\n",
    "        marker=dict(color='#c0c0c0'),\n",
    "        name='Prata',\n",
    "        customdata=medal_pivot['total'],\n",
    "        hovertemplate='Year: %{x}<br>Total de Medalhas: %{customdata}<br>Proporção de Pratas: %{y:.2f}<extra></extra>',\n",
    "    ))\n",
    "\n",
    "    # Add gold trace last\n",
    "    fig.add_trace(go.Bar(\n",
    "        x=medal_pivot['x'],\n",
    "        y=medal_pivot['Medalhas de Ouro'],\n",
    "        width=medal_pivot['width'],\n",
    "        base=medal_pivot['Medalhas de Bronze'] + medal_pivot['Medalhas de Prata'],\n",
    "        marker=dict(color='#ffd700'),\n",
    "        name='Ouro',\n",
    "        customdata=medal_pivot['total'],\n",
    "        hovertemplate='Year: %{x}<br>Total de Medalhas: %{customdata}<br>Proporção de Ouros: %{y:.2f}<extra></extra>',\n",
    "    ))\n",
    "\n",
    "    # Add transparent phantom bars where medal count is 0\n",
    "    for year in medal_pivot.index:\n",
    "        for medal in ['Ouro', 'Prata', 'Bronze']:\n",
    "            if medal_pivot.at[year, f'Medalhas de {medal}'] == 0:\n",
    "                fig.add_trace(go.Bar(\n",
    "                    x=[medal_pivot.at[year, 'x']],\n",
    "                    y=[0],  # Phantom bar at y=0\n",
    "                    width=[medal_pivot.at[year, 'width']],\n",
    "                    base=0,\n",
    "                    marker=dict(color='rgba(0,0,0,0)'),  # Transparent marker\n",
    "                    showlegend=False,  # Do not show in legend\n",
    "                ))\n",
    "\n",
    "    # Update layout for the Marimekko chart\n",
    "    fig.update_layout(\n",
    "        title=f'Proporção de Medalhas - {country}',\n",
    "        barmode='stack',\n",
    "        plot_bgcolor='white',  # Set the background color to white\n",
    "        xaxis=dict(\n",
    "            title='Year',\n",
    "            tickmode='array',\n",
    "            tickvals=medal_pivot['x'],\n",
    "            ticktext=medal_pivot.index.astype(str),\n",
    "            showgrid=False,  # Hide vertical grid lines\n",
    "        ),\n",
    "        yaxis=dict(\n",
    "            title='Proporção de Medalhas',\n",
    "            tickformat='.0%',\n",
    "            gridcolor='lightgray',  # Set horizontal grid lines to light gray\n",
    "        ),\n",
    "    )\n",
    "\n",
    "    fig.show()\n"
   ]
  },
  {
   "cell_type": "code",
   "execution_count": 7,
   "metadata": {},
   "outputs": [
    {
     "data": {
      "application/vnd.plotly.v1+json": {
       "config": {
        "plotlyServerURL": "https://plot.ly"
       },
       "data": [
        {
         "base": 0,
         "customdata": [
          0,
          0,
          0,
          0,
          0,
          0,
          7,
          0,
          0,
          0,
          0,
          10,
          3,
          1,
          13,
          12,
          4,
          2,
          3,
          9,
          36,
          23,
          14,
          0,
          63,
          0,
          48,
          0,
          40,
          0,
          78,
          0,
          59,
          0,
          50
         ],
         "hovertemplate": "Year: %{x}<br>Total de Medalhas: %{customdata}<br>Proporção de Bronzes: %{y:.2f}<extra></extra>",
         "marker": {
          "color": "#cd7f32"
         },
         "name": "Bronze",
         "type": "bar",
         "width": [
          0,
          0,
          0,
          0,
          0,
          0,
          0.014736842105263158,
          0,
          0,
          0,
          0,
          0.021052631578947368,
          0.00631578947368421,
          0.002105263157894737,
          0.02736842105263158,
          0.02526315789473684,
          0.008421052631578947,
          0.004210526315789474,
          0.00631578947368421,
          0.018947368421052633,
          0.07578947368421053,
          0.04842105263157895,
          0.029473684210526315,
          0,
          0.13263157894736843,
          0,
          0.10105263157894737,
          0,
          0.08421052631578947,
          0,
          0.16421052631578947,
          0,
          0.12421052631578948,
          0,
          0.10526315789473684
         ],
         "x": [
          0,
          0.05,
          0.1,
          0.15000000000000002,
          0.2,
          0.25,
          0.3,
          0.36473684210526314,
          0.4147368421052631,
          0.4647368421052631,
          0.5147368421052632,
          0.5647368421052632,
          0.6357894736842106,
          0.6921052631578948,
          0.7442105263157895,
          0.8215789473684212,
          0.8968421052631581,
          0.9552631578947371,
          1.0094736842105265,
          1.0657894736842108,
          1.1347368421052635,
          1.2605263157894742,
          1.3589473684210531,
          1.4384210526315795,
          1.4884210526315795,
          1.671052631578948,
          1.721052631578948,
          1.8721052631578954,
          1.9221052631578954,
          2.0563157894736848,
          2.1063157894736846,
          2.3205263157894738,
          2.3705263157894736,
          2.5447368421052627,
          2.5947368421052626
         ],
         "y": [
          null,
          null,
          null,
          null,
          null,
          null,
          0.7142857142857143,
          null,
          null,
          null,
          null,
          1,
          0.6666666666666666,
          0,
          1,
          1,
          0.75,
          1,
          1,
          0.5555555555555556,
          0.05555555555555555,
          0.21739130434782608,
          0,
          null,
          0.6825396825396826,
          null,
          0.75,
          null,
          0.075,
          null,
          0.38461538461538464,
          null,
          0.1864406779661017,
          null,
          0.12
         ]
        },
        {
         "base": [
          null,
          null,
          null,
          null,
          null,
          null,
          0.7142857142857143,
          null,
          null,
          null,
          null,
          1,
          0.6666666666666666,
          0,
          1,
          1,
          0.75,
          1,
          1,
          0.5555555555555556,
          0.05555555555555555,
          0.21739130434782608,
          0,
          null,
          0.6825396825396826,
          null,
          0.75,
          null,
          0.075,
          null,
          0.38461538461538464,
          null,
          0.1864406779661017,
          null,
          0.12
         ],
         "customdata": [
          0,
          0,
          0,
          0,
          0,
          0,
          7,
          0,
          0,
          0,
          0,
          10,
          3,
          1,
          13,
          12,
          4,
          2,
          3,
          9,
          36,
          23,
          14,
          0,
          63,
          0,
          48,
          0,
          40,
          0,
          78,
          0,
          59,
          0,
          50
         ],
         "hovertemplate": "Year: %{x}<br>Total de Medalhas: %{customdata}<br>Proporção de Pratas: %{y:.2f}<extra></extra>",
         "marker": {
          "color": "#c0c0c0"
         },
         "name": "Prata",
         "type": "bar",
         "width": [
          0,
          0,
          0,
          0,
          0,
          0,
          0.014736842105263158,
          0,
          0,
          0,
          0,
          0.021052631578947368,
          0.00631578947368421,
          0.002105263157894737,
          0.02736842105263158,
          0.02526315789473684,
          0.008421052631578947,
          0.004210526315789474,
          0.00631578947368421,
          0.018947368421052633,
          0.07578947368421053,
          0.04842105263157895,
          0.029473684210526315,
          0,
          0.13263157894736843,
          0,
          0.10105263157894737,
          0,
          0.08421052631578947,
          0,
          0.16421052631578947,
          0,
          0.12421052631578948,
          0,
          0.10526315789473684
         ],
         "x": [
          0,
          0.05,
          0.1,
          0.15000000000000002,
          0.2,
          0.25,
          0.3,
          0.36473684210526314,
          0.4147368421052631,
          0.4647368421052631,
          0.5147368421052632,
          0.5647368421052632,
          0.6357894736842106,
          0.6921052631578948,
          0.7442105263157895,
          0.8215789473684212,
          0.8968421052631581,
          0.9552631578947371,
          1.0094736842105265,
          1.0657894736842108,
          1.1347368421052635,
          1.2605263157894742,
          1.3589473684210531,
          1.4384210526315795,
          1.4884210526315795,
          1.671052631578948,
          1.721052631578948,
          1.8721052631578954,
          1.9221052631578954,
          2.0563157894736848,
          2.1063157894736846,
          2.3205263157894738,
          2.3705263157894736,
          2.5447368421052627,
          2.5947368421052626
         ],
         "y": [
          null,
          null,
          null,
          null,
          null,
          null,
          0.14285714285714285,
          null,
          null,
          null,
          null,
          0,
          0,
          0,
          0,
          0,
          0.25,
          0,
          0,
          0,
          0.9166666666666666,
          0.7391304347826086,
          0.07142857142857142,
          null,
          0.23809523809523808,
          null,
          0.25,
          null,
          0.475,
          null,
          0.4358974358974359,
          null,
          0.576271186440678,
          null,
          0.16
         ]
        },
        {
         "base": [
          null,
          null,
          null,
          null,
          null,
          null,
          0.8571428571428572,
          null,
          null,
          null,
          null,
          1,
          0.6666666666666666,
          0,
          1,
          1,
          1,
          1,
          1,
          0.5555555555555556,
          0.9722222222222222,
          0.9565217391304347,
          0.07142857142857142,
          null,
          0.9206349206349207,
          null,
          1,
          null,
          0.5499999999999999,
          null,
          0.8205128205128205,
          null,
          0.7627118644067796,
          null,
          0.28
         ],
         "customdata": [
          0,
          0,
          0,
          0,
          0,
          0,
          7,
          0,
          0,
          0,
          0,
          10,
          3,
          1,
          13,
          12,
          4,
          2,
          3,
          9,
          36,
          23,
          14,
          0,
          63,
          0,
          48,
          0,
          40,
          0,
          78,
          0,
          59,
          0,
          50
         ],
         "hovertemplate": "Year: %{x}<br>Total de Medalhas: %{customdata}<br>Proporção de Ouros: %{y:.2f}<extra></extra>",
         "marker": {
          "color": "#ffd700"
         },
         "name": "Ouro",
         "type": "bar",
         "width": [
          0,
          0,
          0,
          0,
          0,
          0,
          0.014736842105263158,
          0,
          0,
          0,
          0,
          0.021052631578947368,
          0.00631578947368421,
          0.002105263157894737,
          0.02736842105263158,
          0.02526315789473684,
          0.008421052631578947,
          0.004210526315789474,
          0.00631578947368421,
          0.018947368421052633,
          0.07578947368421053,
          0.04842105263157895,
          0.029473684210526315,
          0,
          0.13263157894736843,
          0,
          0.10105263157894737,
          0,
          0.08421052631578947,
          0,
          0.16421052631578947,
          0,
          0.12421052631578948,
          0,
          0.10526315789473684
         ],
         "x": [
          0,
          0.05,
          0.1,
          0.15000000000000002,
          0.2,
          0.25,
          0.3,
          0.36473684210526314,
          0.4147368421052631,
          0.4647368421052631,
          0.5147368421052632,
          0.5647368421052632,
          0.6357894736842106,
          0.6921052631578948,
          0.7442105263157895,
          0.8215789473684212,
          0.8968421052631581,
          0.9552631578947371,
          1.0094736842105265,
          1.0657894736842108,
          1.1347368421052635,
          1.2605263157894742,
          1.3589473684210531,
          1.4384210526315795,
          1.4884210526315795,
          1.671052631578948,
          1.721052631578948,
          1.8721052631578954,
          1.9221052631578954,
          2.0563157894736848,
          2.1063157894736846,
          2.3205263157894738,
          2.3705263157894736,
          2.5447368421052627,
          2.5947368421052626
         ],
         "y": [
          null,
          null,
          null,
          null,
          null,
          null,
          0.14285714285714285,
          null,
          null,
          null,
          null,
          0,
          0.3333333333333333,
          1,
          0,
          0,
          0,
          0,
          0,
          0.4444444444444444,
          0.027777777777777776,
          0.043478260869565216,
          0.9285714285714286,
          null,
          0.07936507936507936,
          null,
          0,
          null,
          0.45,
          null,
          0.1794871794871795,
          null,
          0.23728813559322035,
          null,
          0.72
         ]
        },
        {
         "base": 0,
         "marker": {
          "color": "rgba(0,0,0,0)"
         },
         "showlegend": false,
         "type": "bar",
         "width": [
          0.021052631578947368
         ],
         "x": [
          0.5647368421052632
         ],
         "y": [
          0
         ]
        },
        {
         "base": 0,
         "marker": {
          "color": "rgba(0,0,0,0)"
         },
         "showlegend": false,
         "type": "bar",
         "width": [
          0.021052631578947368
         ],
         "x": [
          0.5647368421052632
         ],
         "y": [
          0
         ]
        },
        {
         "base": 0,
         "marker": {
          "color": "rgba(0,0,0,0)"
         },
         "showlegend": false,
         "type": "bar",
         "width": [
          0.00631578947368421
         ],
         "x": [
          0.6357894736842106
         ],
         "y": [
          0
         ]
        },
        {
         "base": 0,
         "marker": {
          "color": "rgba(0,0,0,0)"
         },
         "showlegend": false,
         "type": "bar",
         "width": [
          0.002105263157894737
         ],
         "x": [
          0.6921052631578948
         ],
         "y": [
          0
         ]
        },
        {
         "base": 0,
         "marker": {
          "color": "rgba(0,0,0,0)"
         },
         "showlegend": false,
         "type": "bar",
         "width": [
          0.002105263157894737
         ],
         "x": [
          0.6921052631578948
         ],
         "y": [
          0
         ]
        },
        {
         "base": 0,
         "marker": {
          "color": "rgba(0,0,0,0)"
         },
         "showlegend": false,
         "type": "bar",
         "width": [
          0.02736842105263158
         ],
         "x": [
          0.7442105263157895
         ],
         "y": [
          0
         ]
        },
        {
         "base": 0,
         "marker": {
          "color": "rgba(0,0,0,0)"
         },
         "showlegend": false,
         "type": "bar",
         "width": [
          0.02736842105263158
         ],
         "x": [
          0.7442105263157895
         ],
         "y": [
          0
         ]
        },
        {
         "base": 0,
         "marker": {
          "color": "rgba(0,0,0,0)"
         },
         "showlegend": false,
         "type": "bar",
         "width": [
          0.02526315789473684
         ],
         "x": [
          0.8215789473684212
         ],
         "y": [
          0
         ]
        },
        {
         "base": 0,
         "marker": {
          "color": "rgba(0,0,0,0)"
         },
         "showlegend": false,
         "type": "bar",
         "width": [
          0.02526315789473684
         ],
         "x": [
          0.8215789473684212
         ],
         "y": [
          0
         ]
        },
        {
         "base": 0,
         "marker": {
          "color": "rgba(0,0,0,0)"
         },
         "showlegend": false,
         "type": "bar",
         "width": [
          0.008421052631578947
         ],
         "x": [
          0.8968421052631581
         ],
         "y": [
          0
         ]
        },
        {
         "base": 0,
         "marker": {
          "color": "rgba(0,0,0,0)"
         },
         "showlegend": false,
         "type": "bar",
         "width": [
          0.004210526315789474
         ],
         "x": [
          0.9552631578947371
         ],
         "y": [
          0
         ]
        },
        {
         "base": 0,
         "marker": {
          "color": "rgba(0,0,0,0)"
         },
         "showlegend": false,
         "type": "bar",
         "width": [
          0.004210526315789474
         ],
         "x": [
          0.9552631578947371
         ],
         "y": [
          0
         ]
        },
        {
         "base": 0,
         "marker": {
          "color": "rgba(0,0,0,0)"
         },
         "showlegend": false,
         "type": "bar",
         "width": [
          0.00631578947368421
         ],
         "x": [
          1.0094736842105265
         ],
         "y": [
          0
         ]
        },
        {
         "base": 0,
         "marker": {
          "color": "rgba(0,0,0,0)"
         },
         "showlegend": false,
         "type": "bar",
         "width": [
          0.00631578947368421
         ],
         "x": [
          1.0094736842105265
         ],
         "y": [
          0
         ]
        },
        {
         "base": 0,
         "marker": {
          "color": "rgba(0,0,0,0)"
         },
         "showlegend": false,
         "type": "bar",
         "width": [
          0.018947368421052633
         ],
         "x": [
          1.0657894736842108
         ],
         "y": [
          0
         ]
        },
        {
         "base": 0,
         "marker": {
          "color": "rgba(0,0,0,0)"
         },
         "showlegend": false,
         "type": "bar",
         "width": [
          0.029473684210526315
         ],
         "x": [
          1.3589473684210531
         ],
         "y": [
          0
         ]
        },
        {
         "base": 0,
         "marker": {
          "color": "rgba(0,0,0,0)"
         },
         "showlegend": false,
         "type": "bar",
         "width": [
          0.10105263157894737
         ],
         "x": [
          1.721052631578948
         ],
         "y": [
          0
         ]
        }
       ],
       "layout": {
        "barmode": "stack",
        "plot_bgcolor": "white",
        "template": {
         "data": {
          "bar": [
           {
            "error_x": {
             "color": "#2a3f5f"
            },
            "error_y": {
             "color": "#2a3f5f"
            },
            "marker": {
             "line": {
              "color": "#E5ECF6",
              "width": 0.5
             },
             "pattern": {
              "fillmode": "overlay",
              "size": 10,
              "solidity": 0.2
             }
            },
            "type": "bar"
           }
          ],
          "barpolar": [
           {
            "marker": {
             "line": {
              "color": "#E5ECF6",
              "width": 0.5
             },
             "pattern": {
              "fillmode": "overlay",
              "size": 10,
              "solidity": 0.2
             }
            },
            "type": "barpolar"
           }
          ],
          "carpet": [
           {
            "aaxis": {
             "endlinecolor": "#2a3f5f",
             "gridcolor": "white",
             "linecolor": "white",
             "minorgridcolor": "white",
             "startlinecolor": "#2a3f5f"
            },
            "baxis": {
             "endlinecolor": "#2a3f5f",
             "gridcolor": "white",
             "linecolor": "white",
             "minorgridcolor": "white",
             "startlinecolor": "#2a3f5f"
            },
            "type": "carpet"
           }
          ],
          "choropleth": [
           {
            "colorbar": {
             "outlinewidth": 0,
             "ticks": ""
            },
            "type": "choropleth"
           }
          ],
          "contour": [
           {
            "colorbar": {
             "outlinewidth": 0,
             "ticks": ""
            },
            "colorscale": [
             [
              0,
              "#0d0887"
             ],
             [
              0.1111111111111111,
              "#46039f"
             ],
             [
              0.2222222222222222,
              "#7201a8"
             ],
             [
              0.3333333333333333,
              "#9c179e"
             ],
             [
              0.4444444444444444,
              "#bd3786"
             ],
             [
              0.5555555555555556,
              "#d8576b"
             ],
             [
              0.6666666666666666,
              "#ed7953"
             ],
             [
              0.7777777777777778,
              "#fb9f3a"
             ],
             [
              0.8888888888888888,
              "#fdca26"
             ],
             [
              1,
              "#f0f921"
             ]
            ],
            "type": "contour"
           }
          ],
          "contourcarpet": [
           {
            "colorbar": {
             "outlinewidth": 0,
             "ticks": ""
            },
            "type": "contourcarpet"
           }
          ],
          "heatmap": [
           {
            "colorbar": {
             "outlinewidth": 0,
             "ticks": ""
            },
            "colorscale": [
             [
              0,
              "#0d0887"
             ],
             [
              0.1111111111111111,
              "#46039f"
             ],
             [
              0.2222222222222222,
              "#7201a8"
             ],
             [
              0.3333333333333333,
              "#9c179e"
             ],
             [
              0.4444444444444444,
              "#bd3786"
             ],
             [
              0.5555555555555556,
              "#d8576b"
             ],
             [
              0.6666666666666666,
              "#ed7953"
             ],
             [
              0.7777777777777778,
              "#fb9f3a"
             ],
             [
              0.8888888888888888,
              "#fdca26"
             ],
             [
              1,
              "#f0f921"
             ]
            ],
            "type": "heatmap"
           }
          ],
          "heatmapgl": [
           {
            "colorbar": {
             "outlinewidth": 0,
             "ticks": ""
            },
            "colorscale": [
             [
              0,
              "#0d0887"
             ],
             [
              0.1111111111111111,
              "#46039f"
             ],
             [
              0.2222222222222222,
              "#7201a8"
             ],
             [
              0.3333333333333333,
              "#9c179e"
             ],
             [
              0.4444444444444444,
              "#bd3786"
             ],
             [
              0.5555555555555556,
              "#d8576b"
             ],
             [
              0.6666666666666666,
              "#ed7953"
             ],
             [
              0.7777777777777778,
              "#fb9f3a"
             ],
             [
              0.8888888888888888,
              "#fdca26"
             ],
             [
              1,
              "#f0f921"
             ]
            ],
            "type": "heatmapgl"
           }
          ],
          "histogram": [
           {
            "marker": {
             "pattern": {
              "fillmode": "overlay",
              "size": 10,
              "solidity": 0.2
             }
            },
            "type": "histogram"
           }
          ],
          "histogram2d": [
           {
            "colorbar": {
             "outlinewidth": 0,
             "ticks": ""
            },
            "colorscale": [
             [
              0,
              "#0d0887"
             ],
             [
              0.1111111111111111,
              "#46039f"
             ],
             [
              0.2222222222222222,
              "#7201a8"
             ],
             [
              0.3333333333333333,
              "#9c179e"
             ],
             [
              0.4444444444444444,
              "#bd3786"
             ],
             [
              0.5555555555555556,
              "#d8576b"
             ],
             [
              0.6666666666666666,
              "#ed7953"
             ],
             [
              0.7777777777777778,
              "#fb9f3a"
             ],
             [
              0.8888888888888888,
              "#fdca26"
             ],
             [
              1,
              "#f0f921"
             ]
            ],
            "type": "histogram2d"
           }
          ],
          "histogram2dcontour": [
           {
            "colorbar": {
             "outlinewidth": 0,
             "ticks": ""
            },
            "colorscale": [
             [
              0,
              "#0d0887"
             ],
             [
              0.1111111111111111,
              "#46039f"
             ],
             [
              0.2222222222222222,
              "#7201a8"
             ],
             [
              0.3333333333333333,
              "#9c179e"
             ],
             [
              0.4444444444444444,
              "#bd3786"
             ],
             [
              0.5555555555555556,
              "#d8576b"
             ],
             [
              0.6666666666666666,
              "#ed7953"
             ],
             [
              0.7777777777777778,
              "#fb9f3a"
             ],
             [
              0.8888888888888888,
              "#fdca26"
             ],
             [
              1,
              "#f0f921"
             ]
            ],
            "type": "histogram2dcontour"
           }
          ],
          "mesh3d": [
           {
            "colorbar": {
             "outlinewidth": 0,
             "ticks": ""
            },
            "type": "mesh3d"
           }
          ],
          "parcoords": [
           {
            "line": {
             "colorbar": {
              "outlinewidth": 0,
              "ticks": ""
             }
            },
            "type": "parcoords"
           }
          ],
          "pie": [
           {
            "automargin": true,
            "type": "pie"
           }
          ],
          "scatter": [
           {
            "fillpattern": {
             "fillmode": "overlay",
             "size": 10,
             "solidity": 0.2
            },
            "type": "scatter"
           }
          ],
          "scatter3d": [
           {
            "line": {
             "colorbar": {
              "outlinewidth": 0,
              "ticks": ""
             }
            },
            "marker": {
             "colorbar": {
              "outlinewidth": 0,
              "ticks": ""
             }
            },
            "type": "scatter3d"
           }
          ],
          "scattercarpet": [
           {
            "marker": {
             "colorbar": {
              "outlinewidth": 0,
              "ticks": ""
             }
            },
            "type": "scattercarpet"
           }
          ],
          "scattergeo": [
           {
            "marker": {
             "colorbar": {
              "outlinewidth": 0,
              "ticks": ""
             }
            },
            "type": "scattergeo"
           }
          ],
          "scattergl": [
           {
            "marker": {
             "colorbar": {
              "outlinewidth": 0,
              "ticks": ""
             }
            },
            "type": "scattergl"
           }
          ],
          "scattermapbox": [
           {
            "marker": {
             "colorbar": {
              "outlinewidth": 0,
              "ticks": ""
             }
            },
            "type": "scattermapbox"
           }
          ],
          "scatterpolar": [
           {
            "marker": {
             "colorbar": {
              "outlinewidth": 0,
              "ticks": ""
             }
            },
            "type": "scatterpolar"
           }
          ],
          "scatterpolargl": [
           {
            "marker": {
             "colorbar": {
              "outlinewidth": 0,
              "ticks": ""
             }
            },
            "type": "scatterpolargl"
           }
          ],
          "scatterternary": [
           {
            "marker": {
             "colorbar": {
              "outlinewidth": 0,
              "ticks": ""
             }
            },
            "type": "scatterternary"
           }
          ],
          "surface": [
           {
            "colorbar": {
             "outlinewidth": 0,
             "ticks": ""
            },
            "colorscale": [
             [
              0,
              "#0d0887"
             ],
             [
              0.1111111111111111,
              "#46039f"
             ],
             [
              0.2222222222222222,
              "#7201a8"
             ],
             [
              0.3333333333333333,
              "#9c179e"
             ],
             [
              0.4444444444444444,
              "#bd3786"
             ],
             [
              0.5555555555555556,
              "#d8576b"
             ],
             [
              0.6666666666666666,
              "#ed7953"
             ],
             [
              0.7777777777777778,
              "#fb9f3a"
             ],
             [
              0.8888888888888888,
              "#fdca26"
             ],
             [
              1,
              "#f0f921"
             ]
            ],
            "type": "surface"
           }
          ],
          "table": [
           {
            "cells": {
             "fill": {
              "color": "#EBF0F8"
             },
             "line": {
              "color": "white"
             }
            },
            "header": {
             "fill": {
              "color": "#C8D4E3"
             },
             "line": {
              "color": "white"
             }
            },
            "type": "table"
           }
          ]
         },
         "layout": {
          "annotationdefaults": {
           "arrowcolor": "#2a3f5f",
           "arrowhead": 0,
           "arrowwidth": 1
          },
          "autotypenumbers": "strict",
          "coloraxis": {
           "colorbar": {
            "outlinewidth": 0,
            "ticks": ""
           }
          },
          "colorscale": {
           "diverging": [
            [
             0,
             "#8e0152"
            ],
            [
             0.1,
             "#c51b7d"
            ],
            [
             0.2,
             "#de77ae"
            ],
            [
             0.3,
             "#f1b6da"
            ],
            [
             0.4,
             "#fde0ef"
            ],
            [
             0.5,
             "#f7f7f7"
            ],
            [
             0.6,
             "#e6f5d0"
            ],
            [
             0.7,
             "#b8e186"
            ],
            [
             0.8,
             "#7fbc41"
            ],
            [
             0.9,
             "#4d9221"
            ],
            [
             1,
             "#276419"
            ]
           ],
           "sequential": [
            [
             0,
             "#0d0887"
            ],
            [
             0.1111111111111111,
             "#46039f"
            ],
            [
             0.2222222222222222,
             "#7201a8"
            ],
            [
             0.3333333333333333,
             "#9c179e"
            ],
            [
             0.4444444444444444,
             "#bd3786"
            ],
            [
             0.5555555555555556,
             "#d8576b"
            ],
            [
             0.6666666666666666,
             "#ed7953"
            ],
            [
             0.7777777777777778,
             "#fb9f3a"
            ],
            [
             0.8888888888888888,
             "#fdca26"
            ],
            [
             1,
             "#f0f921"
            ]
           ],
           "sequentialminus": [
            [
             0,
             "#0d0887"
            ],
            [
             0.1111111111111111,
             "#46039f"
            ],
            [
             0.2222222222222222,
             "#7201a8"
            ],
            [
             0.3333333333333333,
             "#9c179e"
            ],
            [
             0.4444444444444444,
             "#bd3786"
            ],
            [
             0.5555555555555556,
             "#d8576b"
            ],
            [
             0.6666666666666666,
             "#ed7953"
            ],
            [
             0.7777777777777778,
             "#fb9f3a"
            ],
            [
             0.8888888888888888,
             "#fdca26"
            ],
            [
             1,
             "#f0f921"
            ]
           ]
          },
          "colorway": [
           "#636efa",
           "#EF553B",
           "#00cc96",
           "#ab63fa",
           "#FFA15A",
           "#19d3f3",
           "#FF6692",
           "#B6E880",
           "#FF97FF",
           "#FECB52"
          ],
          "font": {
           "color": "#2a3f5f"
          },
          "geo": {
           "bgcolor": "white",
           "lakecolor": "white",
           "landcolor": "#E5ECF6",
           "showlakes": true,
           "showland": true,
           "subunitcolor": "white"
          },
          "hoverlabel": {
           "align": "left"
          },
          "hovermode": "closest",
          "mapbox": {
           "style": "light"
          },
          "paper_bgcolor": "white",
          "plot_bgcolor": "#E5ECF6",
          "polar": {
           "angularaxis": {
            "gridcolor": "white",
            "linecolor": "white",
            "ticks": ""
           },
           "bgcolor": "#E5ECF6",
           "radialaxis": {
            "gridcolor": "white",
            "linecolor": "white",
            "ticks": ""
           }
          },
          "scene": {
           "xaxis": {
            "backgroundcolor": "#E5ECF6",
            "gridcolor": "white",
            "gridwidth": 2,
            "linecolor": "white",
            "showbackground": true,
            "ticks": "",
            "zerolinecolor": "white"
           },
           "yaxis": {
            "backgroundcolor": "#E5ECF6",
            "gridcolor": "white",
            "gridwidth": 2,
            "linecolor": "white",
            "showbackground": true,
            "ticks": "",
            "zerolinecolor": "white"
           },
           "zaxis": {
            "backgroundcolor": "#E5ECF6",
            "gridcolor": "white",
            "gridwidth": 2,
            "linecolor": "white",
            "showbackground": true,
            "ticks": "",
            "zerolinecolor": "white"
           }
          },
          "shapedefaults": {
           "line": {
            "color": "#2a3f5f"
           }
          },
          "ternary": {
           "aaxis": {
            "gridcolor": "white",
            "linecolor": "white",
            "ticks": ""
           },
           "baxis": {
            "gridcolor": "white",
            "linecolor": "white",
            "ticks": ""
           },
           "bgcolor": "#E5ECF6",
           "caxis": {
            "gridcolor": "white",
            "linecolor": "white",
            "ticks": ""
           }
          },
          "title": {
           "x": 0.05
          },
          "xaxis": {
           "automargin": true,
           "gridcolor": "white",
           "linecolor": "white",
           "ticks": "",
           "title": {
            "standoff": 15
           },
           "zerolinecolor": "white",
           "zerolinewidth": 2
          },
          "yaxis": {
           "automargin": true,
           "gridcolor": "white",
           "linecolor": "white",
           "ticks": "",
           "title": {
            "standoff": 15
           },
           "zerolinecolor": "white",
           "zerolinewidth": 2
          }
         }
        },
        "title": {
         "text": "Proporção de Medalhas - BRA"
        },
        "xaxis": {
         "showgrid": false,
         "tickmode": "array",
         "ticktext": [
          "1896",
          "1900",
          "1904",
          "1906",
          "1908",
          "1912",
          "1920",
          "1924",
          "1928",
          "1932",
          "1936",
          "1948",
          "1952",
          "1956",
          "1960",
          "1964",
          "1968",
          "1972",
          "1976",
          "1980",
          "1984",
          "1988",
          "1992",
          "1994",
          "1996",
          "1998",
          "2000",
          "2002",
          "2004",
          "2006",
          "2008",
          "2010",
          "2012",
          "2014",
          "2016"
         ],
         "tickvals": [
          0,
          0.05,
          0.1,
          0.15000000000000002,
          0.2,
          0.25,
          0.3,
          0.36473684210526314,
          0.4147368421052631,
          0.4647368421052631,
          0.5147368421052632,
          0.5647368421052632,
          0.6357894736842106,
          0.6921052631578948,
          0.7442105263157895,
          0.8215789473684212,
          0.8968421052631581,
          0.9552631578947371,
          1.0094736842105265,
          1.0657894736842108,
          1.1347368421052635,
          1.2605263157894742,
          1.3589473684210531,
          1.4384210526315795,
          1.4884210526315795,
          1.671052631578948,
          1.721052631578948,
          1.8721052631578954,
          1.9221052631578954,
          2.0563157894736848,
          2.1063157894736846,
          2.3205263157894738,
          2.3705263157894736,
          2.5447368421052627,
          2.5947368421052626
         ],
         "title": {
          "text": "Year"
         }
        },
        "yaxis": {
         "gridcolor": "lightgray",
         "tickformat": ".0%",
         "title": {
          "text": "Proporção de Medalhas"
         }
        }
       }
      }
     },
     "metadata": {},
     "output_type": "display_data"
    }
   ],
   "source": [
    "plot_marimekko(df, 'BRA')\n"
   ]
  },
  {
   "cell_type": "code",
   "execution_count": 9,
   "metadata": {},
   "outputs": [
    {
     "data": {
      "application/vnd.plotly.v1+json": {
       "config": {
        "plotlyServerURL": "https://plot.ly"
       },
       "data": [
        {
         "base": 0,
         "customdata": [
          0,
          0,
          0,
          0,
          0,
          0,
          7,
          0,
          0,
          0,
          0,
          10,
          3,
          1,
          13,
          12,
          4,
          2,
          3,
          9,
          36,
          23,
          14,
          0,
          63,
          0,
          48,
          0,
          40,
          0,
          78,
          0,
          59,
          0,
          50
         ],
         "hovertemplate": "Year: %{x}<br>Total de Medalhas: %{customdata}<br>Proporção de Bronzes: %{y:.2f}<extra></extra>",
         "marker": {
          "color": "#cd7f32"
         },
         "name": "Bronze",
         "type": "bar",
         "width": [
          0,
          0,
          0,
          0,
          0,
          0,
          0.014736842105263158,
          0,
          0,
          0,
          0,
          0.021052631578947368,
          0.00631578947368421,
          0.002105263157894737,
          0.02736842105263158,
          0.02526315789473684,
          0.008421052631578947,
          0.004210526315789474,
          0.00631578947368421,
          0.018947368421052633,
          0.07578947368421053,
          0.04842105263157895,
          0.029473684210526315,
          0,
          0.13263157894736843,
          0,
          0.10105263157894737,
          0,
          0.08421052631578947,
          0,
          0.16421052631578947,
          0,
          0.12421052631578948,
          0,
          0.10526315789473684
         ],
         "x": [
          0.125,
          0.175,
          0.22499999999999998,
          0.27499999999999997,
          0.32499999999999996,
          0.37499999999999994,
          0.42499999999999993,
          0.4897368421052631,
          0.5397368421052631,
          0.5897368421052631,
          0.6397368421052632,
          0.6897368421052632,
          0.7607894736842106,
          0.8171052631578948,
          0.8692105263157895,
          0.9465789473684212,
          1.021842105263158,
          1.080263157894737,
          1.1344736842105265,
          1.1907894736842108,
          1.2597368421052635,
          1.3855263157894742,
          1.4839473684210531,
          1.5634210526315795,
          1.6134210526315795,
          1.796052631578948,
          1.846052631578948,
          1.9971052631578954,
          2.047105263157895,
          2.1813157894736843,
          2.231315789473684,
          2.4455263157894733,
          2.495526315789473,
          2.6697368421052623,
          2.719736842105262
         ],
         "y": [
          null,
          null,
          null,
          null,
          null,
          null,
          0.7142857142857143,
          null,
          null,
          null,
          null,
          1,
          0.6666666666666666,
          0,
          1,
          1,
          0.75,
          1,
          1,
          0.5555555555555556,
          0.05555555555555555,
          0.21739130434782608,
          0,
          null,
          0.6825396825396826,
          null,
          0.75,
          null,
          0.075,
          null,
          0.38461538461538464,
          null,
          0.1864406779661017,
          null,
          0.12
         ]
        },
        {
         "base": [
          null,
          null,
          null,
          null,
          null,
          null,
          0.7142857142857143,
          null,
          null,
          null,
          null,
          1,
          0.6666666666666666,
          0,
          1,
          1,
          0.75,
          1,
          1,
          0.5555555555555556,
          0.05555555555555555,
          0.21739130434782608,
          0,
          null,
          0.6825396825396826,
          null,
          0.75,
          null,
          0.075,
          null,
          0.38461538461538464,
          null,
          0.1864406779661017,
          null,
          0.12
         ],
         "customdata": [
          0,
          0,
          0,
          0,
          0,
          0,
          7,
          0,
          0,
          0,
          0,
          10,
          3,
          1,
          13,
          12,
          4,
          2,
          3,
          9,
          36,
          23,
          14,
          0,
          63,
          0,
          48,
          0,
          40,
          0,
          78,
          0,
          59,
          0,
          50
         ],
         "hovertemplate": "Year: %{x}<br>Total de Medalhas: %{customdata}<br>Proporção de Pratas: %{y:.2f}<extra></extra>",
         "marker": {
          "color": "#c0c0c0"
         },
         "name": "Prata",
         "type": "bar",
         "width": [
          0,
          0,
          0,
          0,
          0,
          0,
          0.014736842105263158,
          0,
          0,
          0,
          0,
          0.021052631578947368,
          0.00631578947368421,
          0.002105263157894737,
          0.02736842105263158,
          0.02526315789473684,
          0.008421052631578947,
          0.004210526315789474,
          0.00631578947368421,
          0.018947368421052633,
          0.07578947368421053,
          0.04842105263157895,
          0.029473684210526315,
          0,
          0.13263157894736843,
          0,
          0.10105263157894737,
          0,
          0.08421052631578947,
          0,
          0.16421052631578947,
          0,
          0.12421052631578948,
          0,
          0.10526315789473684
         ],
         "x": [
          0.125,
          0.175,
          0.22499999999999998,
          0.27499999999999997,
          0.32499999999999996,
          0.37499999999999994,
          0.42499999999999993,
          0.4897368421052631,
          0.5397368421052631,
          0.5897368421052631,
          0.6397368421052632,
          0.6897368421052632,
          0.7607894736842106,
          0.8171052631578948,
          0.8692105263157895,
          0.9465789473684212,
          1.021842105263158,
          1.080263157894737,
          1.1344736842105265,
          1.1907894736842108,
          1.2597368421052635,
          1.3855263157894742,
          1.4839473684210531,
          1.5634210526315795,
          1.6134210526315795,
          1.796052631578948,
          1.846052631578948,
          1.9971052631578954,
          2.047105263157895,
          2.1813157894736843,
          2.231315789473684,
          2.4455263157894733,
          2.495526315789473,
          2.6697368421052623,
          2.719736842105262
         ],
         "y": [
          null,
          null,
          null,
          null,
          null,
          null,
          0.14285714285714285,
          null,
          null,
          null,
          null,
          0,
          0,
          0,
          0,
          0,
          0.25,
          0,
          0,
          0,
          0.9166666666666666,
          0.7391304347826086,
          0.07142857142857142,
          null,
          0.23809523809523808,
          null,
          0.25,
          null,
          0.475,
          null,
          0.4358974358974359,
          null,
          0.576271186440678,
          null,
          0.16
         ]
        },
        {
         "base": [
          null,
          null,
          null,
          null,
          null,
          null,
          0.8571428571428572,
          null,
          null,
          null,
          null,
          1,
          0.6666666666666666,
          0,
          1,
          1,
          1,
          1,
          1,
          0.5555555555555556,
          0.9722222222222222,
          0.9565217391304347,
          0.07142857142857142,
          null,
          0.9206349206349207,
          null,
          1,
          null,
          0.5499999999999999,
          null,
          0.8205128205128205,
          null,
          0.7627118644067796,
          null,
          0.28
         ],
         "customdata": [
          0,
          0,
          0,
          0,
          0,
          0,
          7,
          0,
          0,
          0,
          0,
          10,
          3,
          1,
          13,
          12,
          4,
          2,
          3,
          9,
          36,
          23,
          14,
          0,
          63,
          0,
          48,
          0,
          40,
          0,
          78,
          0,
          59,
          0,
          50
         ],
         "hovertemplate": "Year: %{x}<br>Total de Medalhas: %{customdata}<br>Proporção de Ouros: %{y:.2f}<extra></extra>",
         "marker": {
          "color": "#ffd700"
         },
         "name": "Ouro",
         "type": "bar",
         "width": [
          0,
          0,
          0,
          0,
          0,
          0,
          0.014736842105263158,
          0,
          0,
          0,
          0,
          0.021052631578947368,
          0.00631578947368421,
          0.002105263157894737,
          0.02736842105263158,
          0.02526315789473684,
          0.008421052631578947,
          0.004210526315789474,
          0.00631578947368421,
          0.018947368421052633,
          0.07578947368421053,
          0.04842105263157895,
          0.029473684210526315,
          0,
          0.13263157894736843,
          0,
          0.10105263157894737,
          0,
          0.08421052631578947,
          0,
          0.16421052631578947,
          0,
          0.12421052631578948,
          0,
          0.10526315789473684
         ],
         "x": [
          0.125,
          0.175,
          0.22499999999999998,
          0.27499999999999997,
          0.32499999999999996,
          0.37499999999999994,
          0.42499999999999993,
          0.4897368421052631,
          0.5397368421052631,
          0.5897368421052631,
          0.6397368421052632,
          0.6897368421052632,
          0.7607894736842106,
          0.8171052631578948,
          0.8692105263157895,
          0.9465789473684212,
          1.021842105263158,
          1.080263157894737,
          1.1344736842105265,
          1.1907894736842108,
          1.2597368421052635,
          1.3855263157894742,
          1.4839473684210531,
          1.5634210526315795,
          1.6134210526315795,
          1.796052631578948,
          1.846052631578948,
          1.9971052631578954,
          2.047105263157895,
          2.1813157894736843,
          2.231315789473684,
          2.4455263157894733,
          2.495526315789473,
          2.6697368421052623,
          2.719736842105262
         ],
         "y": [
          null,
          null,
          null,
          null,
          null,
          null,
          0.14285714285714285,
          null,
          null,
          null,
          null,
          0,
          0.3333333333333333,
          1,
          0,
          0,
          0,
          0,
          0,
          0.4444444444444444,
          0.027777777777777776,
          0.043478260869565216,
          0.9285714285714286,
          null,
          0.07936507936507936,
          null,
          0,
          null,
          0.45,
          null,
          0.1794871794871795,
          null,
          0.23728813559322035,
          null,
          0.72
         ]
        },
        {
         "base": 0,
         "marker": {
          "color": "rgba(0,0,0,0)"
         },
         "showlegend": false,
         "type": "bar",
         "width": [
          0.021052631578947368
         ],
         "x": [
          0.6897368421052632
         ],
         "y": [
          0
         ]
        },
        {
         "base": 0,
         "marker": {
          "color": "rgba(0,0,0,0)"
         },
         "showlegend": false,
         "type": "bar",
         "width": [
          0.021052631578947368
         ],
         "x": [
          0.6897368421052632
         ],
         "y": [
          0
         ]
        },
        {
         "base": 0,
         "marker": {
          "color": "rgba(0,0,0,0)"
         },
         "showlegend": false,
         "type": "bar",
         "width": [
          0.00631578947368421
         ],
         "x": [
          0.7607894736842106
         ],
         "y": [
          0
         ]
        },
        {
         "base": 0,
         "marker": {
          "color": "rgba(0,0,0,0)"
         },
         "showlegend": false,
         "type": "bar",
         "width": [
          0.002105263157894737
         ],
         "x": [
          0.8171052631578948
         ],
         "y": [
          0
         ]
        },
        {
         "base": 0,
         "marker": {
          "color": "rgba(0,0,0,0)"
         },
         "showlegend": false,
         "type": "bar",
         "width": [
          0.002105263157894737
         ],
         "x": [
          0.8171052631578948
         ],
         "y": [
          0
         ]
        },
        {
         "base": 0,
         "marker": {
          "color": "rgba(0,0,0,0)"
         },
         "showlegend": false,
         "type": "bar",
         "width": [
          0.02736842105263158
         ],
         "x": [
          0.8692105263157895
         ],
         "y": [
          0
         ]
        },
        {
         "base": 0,
         "marker": {
          "color": "rgba(0,0,0,0)"
         },
         "showlegend": false,
         "type": "bar",
         "width": [
          0.02736842105263158
         ],
         "x": [
          0.8692105263157895
         ],
         "y": [
          0
         ]
        },
        {
         "base": 0,
         "marker": {
          "color": "rgba(0,0,0,0)"
         },
         "showlegend": false,
         "type": "bar",
         "width": [
          0.02526315789473684
         ],
         "x": [
          0.9465789473684212
         ],
         "y": [
          0
         ]
        },
        {
         "base": 0,
         "marker": {
          "color": "rgba(0,0,0,0)"
         },
         "showlegend": false,
         "type": "bar",
         "width": [
          0.02526315789473684
         ],
         "x": [
          0.9465789473684212
         ],
         "y": [
          0
         ]
        },
        {
         "base": 0,
         "marker": {
          "color": "rgba(0,0,0,0)"
         },
         "showlegend": false,
         "type": "bar",
         "width": [
          0.008421052631578947
         ],
         "x": [
          1.021842105263158
         ],
         "y": [
          0
         ]
        },
        {
         "base": 0,
         "marker": {
          "color": "rgba(0,0,0,0)"
         },
         "showlegend": false,
         "type": "bar",
         "width": [
          0.004210526315789474
         ],
         "x": [
          1.080263157894737
         ],
         "y": [
          0
         ]
        },
        {
         "base": 0,
         "marker": {
          "color": "rgba(0,0,0,0)"
         },
         "showlegend": false,
         "type": "bar",
         "width": [
          0.004210526315789474
         ],
         "x": [
          1.080263157894737
         ],
         "y": [
          0
         ]
        },
        {
         "base": 0,
         "marker": {
          "color": "rgba(0,0,0,0)"
         },
         "showlegend": false,
         "type": "bar",
         "width": [
          0.00631578947368421
         ],
         "x": [
          1.1344736842105265
         ],
         "y": [
          0
         ]
        },
        {
         "base": 0,
         "marker": {
          "color": "rgba(0,0,0,0)"
         },
         "showlegend": false,
         "type": "bar",
         "width": [
          0.00631578947368421
         ],
         "x": [
          1.1344736842105265
         ],
         "y": [
          0
         ]
        },
        {
         "base": 0,
         "marker": {
          "color": "rgba(0,0,0,0)"
         },
         "showlegend": false,
         "type": "bar",
         "width": [
          0.018947368421052633
         ],
         "x": [
          1.1907894736842108
         ],
         "y": [
          0
         ]
        },
        {
         "base": 0,
         "marker": {
          "color": "rgba(0,0,0,0)"
         },
         "showlegend": false,
         "type": "bar",
         "width": [
          0.029473684210526315
         ],
         "x": [
          1.4839473684210531
         ],
         "y": [
          0
         ]
        },
        {
         "base": 0,
         "marker": {
          "color": "rgba(0,0,0,0)"
         },
         "showlegend": false,
         "type": "bar",
         "width": [
          0.10105263157894737
         ],
         "x": [
          1.846052631578948
         ],
         "y": [
          0
         ]
        }
       ],
       "layout": {
        "barmode": "stack",
        "plot_bgcolor": "white",
        "template": {
         "data": {
          "bar": [
           {
            "error_x": {
             "color": "#2a3f5f"
            },
            "error_y": {
             "color": "#2a3f5f"
            },
            "marker": {
             "line": {
              "color": "#E5ECF6",
              "width": 0.5
             },
             "pattern": {
              "fillmode": "overlay",
              "size": 10,
              "solidity": 0.2
             }
            },
            "type": "bar"
           }
          ],
          "barpolar": [
           {
            "marker": {
             "line": {
              "color": "#E5ECF6",
              "width": 0.5
             },
             "pattern": {
              "fillmode": "overlay",
              "size": 10,
              "solidity": 0.2
             }
            },
            "type": "barpolar"
           }
          ],
          "carpet": [
           {
            "aaxis": {
             "endlinecolor": "#2a3f5f",
             "gridcolor": "white",
             "linecolor": "white",
             "minorgridcolor": "white",
             "startlinecolor": "#2a3f5f"
            },
            "baxis": {
             "endlinecolor": "#2a3f5f",
             "gridcolor": "white",
             "linecolor": "white",
             "minorgridcolor": "white",
             "startlinecolor": "#2a3f5f"
            },
            "type": "carpet"
           }
          ],
          "choropleth": [
           {
            "colorbar": {
             "outlinewidth": 0,
             "ticks": ""
            },
            "type": "choropleth"
           }
          ],
          "contour": [
           {
            "colorbar": {
             "outlinewidth": 0,
             "ticks": ""
            },
            "colorscale": [
             [
              0,
              "#0d0887"
             ],
             [
              0.1111111111111111,
              "#46039f"
             ],
             [
              0.2222222222222222,
              "#7201a8"
             ],
             [
              0.3333333333333333,
              "#9c179e"
             ],
             [
              0.4444444444444444,
              "#bd3786"
             ],
             [
              0.5555555555555556,
              "#d8576b"
             ],
             [
              0.6666666666666666,
              "#ed7953"
             ],
             [
              0.7777777777777778,
              "#fb9f3a"
             ],
             [
              0.8888888888888888,
              "#fdca26"
             ],
             [
              1,
              "#f0f921"
             ]
            ],
            "type": "contour"
           }
          ],
          "contourcarpet": [
           {
            "colorbar": {
             "outlinewidth": 0,
             "ticks": ""
            },
            "type": "contourcarpet"
           }
          ],
          "heatmap": [
           {
            "colorbar": {
             "outlinewidth": 0,
             "ticks": ""
            },
            "colorscale": [
             [
              0,
              "#0d0887"
             ],
             [
              0.1111111111111111,
              "#46039f"
             ],
             [
              0.2222222222222222,
              "#7201a8"
             ],
             [
              0.3333333333333333,
              "#9c179e"
             ],
             [
              0.4444444444444444,
              "#bd3786"
             ],
             [
              0.5555555555555556,
              "#d8576b"
             ],
             [
              0.6666666666666666,
              "#ed7953"
             ],
             [
              0.7777777777777778,
              "#fb9f3a"
             ],
             [
              0.8888888888888888,
              "#fdca26"
             ],
             [
              1,
              "#f0f921"
             ]
            ],
            "type": "heatmap"
           }
          ],
          "heatmapgl": [
           {
            "colorbar": {
             "outlinewidth": 0,
             "ticks": ""
            },
            "colorscale": [
             [
              0,
              "#0d0887"
             ],
             [
              0.1111111111111111,
              "#46039f"
             ],
             [
              0.2222222222222222,
              "#7201a8"
             ],
             [
              0.3333333333333333,
              "#9c179e"
             ],
             [
              0.4444444444444444,
              "#bd3786"
             ],
             [
              0.5555555555555556,
              "#d8576b"
             ],
             [
              0.6666666666666666,
              "#ed7953"
             ],
             [
              0.7777777777777778,
              "#fb9f3a"
             ],
             [
              0.8888888888888888,
              "#fdca26"
             ],
             [
              1,
              "#f0f921"
             ]
            ],
            "type": "heatmapgl"
           }
          ],
          "histogram": [
           {
            "marker": {
             "pattern": {
              "fillmode": "overlay",
              "size": 10,
              "solidity": 0.2
             }
            },
            "type": "histogram"
           }
          ],
          "histogram2d": [
           {
            "colorbar": {
             "outlinewidth": 0,
             "ticks": ""
            },
            "colorscale": [
             [
              0,
              "#0d0887"
             ],
             [
              0.1111111111111111,
              "#46039f"
             ],
             [
              0.2222222222222222,
              "#7201a8"
             ],
             [
              0.3333333333333333,
              "#9c179e"
             ],
             [
              0.4444444444444444,
              "#bd3786"
             ],
             [
              0.5555555555555556,
              "#d8576b"
             ],
             [
              0.6666666666666666,
              "#ed7953"
             ],
             [
              0.7777777777777778,
              "#fb9f3a"
             ],
             [
              0.8888888888888888,
              "#fdca26"
             ],
             [
              1,
              "#f0f921"
             ]
            ],
            "type": "histogram2d"
           }
          ],
          "histogram2dcontour": [
           {
            "colorbar": {
             "outlinewidth": 0,
             "ticks": ""
            },
            "colorscale": [
             [
              0,
              "#0d0887"
             ],
             [
              0.1111111111111111,
              "#46039f"
             ],
             [
              0.2222222222222222,
              "#7201a8"
             ],
             [
              0.3333333333333333,
              "#9c179e"
             ],
             [
              0.4444444444444444,
              "#bd3786"
             ],
             [
              0.5555555555555556,
              "#d8576b"
             ],
             [
              0.6666666666666666,
              "#ed7953"
             ],
             [
              0.7777777777777778,
              "#fb9f3a"
             ],
             [
              0.8888888888888888,
              "#fdca26"
             ],
             [
              1,
              "#f0f921"
             ]
            ],
            "type": "histogram2dcontour"
           }
          ],
          "mesh3d": [
           {
            "colorbar": {
             "outlinewidth": 0,
             "ticks": ""
            },
            "type": "mesh3d"
           }
          ],
          "parcoords": [
           {
            "line": {
             "colorbar": {
              "outlinewidth": 0,
              "ticks": ""
             }
            },
            "type": "parcoords"
           }
          ],
          "pie": [
           {
            "automargin": true,
            "type": "pie"
           }
          ],
          "scatter": [
           {
            "fillpattern": {
             "fillmode": "overlay",
             "size": 10,
             "solidity": 0.2
            },
            "type": "scatter"
           }
          ],
          "scatter3d": [
           {
            "line": {
             "colorbar": {
              "outlinewidth": 0,
              "ticks": ""
             }
            },
            "marker": {
             "colorbar": {
              "outlinewidth": 0,
              "ticks": ""
             }
            },
            "type": "scatter3d"
           }
          ],
          "scattercarpet": [
           {
            "marker": {
             "colorbar": {
              "outlinewidth": 0,
              "ticks": ""
             }
            },
            "type": "scattercarpet"
           }
          ],
          "scattergeo": [
           {
            "marker": {
             "colorbar": {
              "outlinewidth": 0,
              "ticks": ""
             }
            },
            "type": "scattergeo"
           }
          ],
          "scattergl": [
           {
            "marker": {
             "colorbar": {
              "outlinewidth": 0,
              "ticks": ""
             }
            },
            "type": "scattergl"
           }
          ],
          "scattermapbox": [
           {
            "marker": {
             "colorbar": {
              "outlinewidth": 0,
              "ticks": ""
             }
            },
            "type": "scattermapbox"
           }
          ],
          "scatterpolar": [
           {
            "marker": {
             "colorbar": {
              "outlinewidth": 0,
              "ticks": ""
             }
            },
            "type": "scatterpolar"
           }
          ],
          "scatterpolargl": [
           {
            "marker": {
             "colorbar": {
              "outlinewidth": 0,
              "ticks": ""
             }
            },
            "type": "scatterpolargl"
           }
          ],
          "scatterternary": [
           {
            "marker": {
             "colorbar": {
              "outlinewidth": 0,
              "ticks": ""
             }
            },
            "type": "scatterternary"
           }
          ],
          "surface": [
           {
            "colorbar": {
             "outlinewidth": 0,
             "ticks": ""
            },
            "colorscale": [
             [
              0,
              "#0d0887"
             ],
             [
              0.1111111111111111,
              "#46039f"
             ],
             [
              0.2222222222222222,
              "#7201a8"
             ],
             [
              0.3333333333333333,
              "#9c179e"
             ],
             [
              0.4444444444444444,
              "#bd3786"
             ],
             [
              0.5555555555555556,
              "#d8576b"
             ],
             [
              0.6666666666666666,
              "#ed7953"
             ],
             [
              0.7777777777777778,
              "#fb9f3a"
             ],
             [
              0.8888888888888888,
              "#fdca26"
             ],
             [
              1,
              "#f0f921"
             ]
            ],
            "type": "surface"
           }
          ],
          "table": [
           {
            "cells": {
             "fill": {
              "color": "#EBF0F8"
             },
             "line": {
              "color": "white"
             }
            },
            "header": {
             "fill": {
              "color": "#C8D4E3"
             },
             "line": {
              "color": "white"
             }
            },
            "type": "table"
           }
          ]
         },
         "layout": {
          "annotationdefaults": {
           "arrowcolor": "#2a3f5f",
           "arrowhead": 0,
           "arrowwidth": 1
          },
          "autotypenumbers": "strict",
          "coloraxis": {
           "colorbar": {
            "outlinewidth": 0,
            "ticks": ""
           }
          },
          "colorscale": {
           "diverging": [
            [
             0,
             "#8e0152"
            ],
            [
             0.1,
             "#c51b7d"
            ],
            [
             0.2,
             "#de77ae"
            ],
            [
             0.3,
             "#f1b6da"
            ],
            [
             0.4,
             "#fde0ef"
            ],
            [
             0.5,
             "#f7f7f7"
            ],
            [
             0.6,
             "#e6f5d0"
            ],
            [
             0.7,
             "#b8e186"
            ],
            [
             0.8,
             "#7fbc41"
            ],
            [
             0.9,
             "#4d9221"
            ],
            [
             1,
             "#276419"
            ]
           ],
           "sequential": [
            [
             0,
             "#0d0887"
            ],
            [
             0.1111111111111111,
             "#46039f"
            ],
            [
             0.2222222222222222,
             "#7201a8"
            ],
            [
             0.3333333333333333,
             "#9c179e"
            ],
            [
             0.4444444444444444,
             "#bd3786"
            ],
            [
             0.5555555555555556,
             "#d8576b"
            ],
            [
             0.6666666666666666,
             "#ed7953"
            ],
            [
             0.7777777777777778,
             "#fb9f3a"
            ],
            [
             0.8888888888888888,
             "#fdca26"
            ],
            [
             1,
             "#f0f921"
            ]
           ],
           "sequentialminus": [
            [
             0,
             "#0d0887"
            ],
            [
             0.1111111111111111,
             "#46039f"
            ],
            [
             0.2222222222222222,
             "#7201a8"
            ],
            [
             0.3333333333333333,
             "#9c179e"
            ],
            [
             0.4444444444444444,
             "#bd3786"
            ],
            [
             0.5555555555555556,
             "#d8576b"
            ],
            [
             0.6666666666666666,
             "#ed7953"
            ],
            [
             0.7777777777777778,
             "#fb9f3a"
            ],
            [
             0.8888888888888888,
             "#fdca26"
            ],
            [
             1,
             "#f0f921"
            ]
           ]
          },
          "colorway": [
           "#636efa",
           "#EF553B",
           "#00cc96",
           "#ab63fa",
           "#FFA15A",
           "#19d3f3",
           "#FF6692",
           "#B6E880",
           "#FF97FF",
           "#FECB52"
          ],
          "font": {
           "color": "#2a3f5f"
          },
          "geo": {
           "bgcolor": "white",
           "lakecolor": "white",
           "landcolor": "#E5ECF6",
           "showlakes": true,
           "showland": true,
           "subunitcolor": "white"
          },
          "hoverlabel": {
           "align": "left"
          },
          "hovermode": "closest",
          "mapbox": {
           "style": "light"
          },
          "paper_bgcolor": "white",
          "plot_bgcolor": "#E5ECF6",
          "polar": {
           "angularaxis": {
            "gridcolor": "white",
            "linecolor": "white",
            "ticks": ""
           },
           "bgcolor": "#E5ECF6",
           "radialaxis": {
            "gridcolor": "white",
            "linecolor": "white",
            "ticks": ""
           }
          },
          "scene": {
           "xaxis": {
            "backgroundcolor": "#E5ECF6",
            "gridcolor": "white",
            "gridwidth": 2,
            "linecolor": "white",
            "showbackground": true,
            "ticks": "",
            "zerolinecolor": "white"
           },
           "yaxis": {
            "backgroundcolor": "#E5ECF6",
            "gridcolor": "white",
            "gridwidth": 2,
            "linecolor": "white",
            "showbackground": true,
            "ticks": "",
            "zerolinecolor": "white"
           },
           "zaxis": {
            "backgroundcolor": "#E5ECF6",
            "gridcolor": "white",
            "gridwidth": 2,
            "linecolor": "white",
            "showbackground": true,
            "ticks": "",
            "zerolinecolor": "white"
           }
          },
          "shapedefaults": {
           "line": {
            "color": "#2a3f5f"
           }
          },
          "ternary": {
           "aaxis": {
            "gridcolor": "white",
            "linecolor": "white",
            "ticks": ""
           },
           "baxis": {
            "gridcolor": "white",
            "linecolor": "white",
            "ticks": ""
           },
           "bgcolor": "#E5ECF6",
           "caxis": {
            "gridcolor": "white",
            "linecolor": "white",
            "ticks": ""
           }
          },
          "title": {
           "x": 0.05
          },
          "xaxis": {
           "automargin": true,
           "gridcolor": "white",
           "linecolor": "white",
           "ticks": "",
           "title": {
            "standoff": 15
           },
           "zerolinecolor": "white",
           "zerolinewidth": 2
          },
          "yaxis": {
           "automargin": true,
           "gridcolor": "white",
           "linecolor": "white",
           "ticks": "",
           "title": {
            "standoff": 15
           },
           "zerolinecolor": "white",
           "zerolinewidth": 2
          }
         }
        },
        "title": {
         "text": "Proporção de Medalhas - BRA"
        },
        "xaxis": {
         "showgrid": false,
         "tickmode": "array",
         "ticktext": [
          "1896",
          "1900",
          "1904",
          "1906",
          "1908",
          "1912",
          "1920",
          "1924",
          "1928",
          "1932",
          "1936",
          "1948",
          "1952",
          "1956",
          "1960",
          "1964",
          "1968",
          "1972",
          "1976",
          "1980",
          "1984",
          "1988",
          "1992",
          "1994",
          "1996",
          "1998",
          "2000",
          "2002",
          "2004",
          "2006",
          "2008",
          "2010",
          "2012",
          "2014",
          "2016"
         ],
         "tickvals": [
          0.125,
          0.175,
          0.22499999999999998,
          0.27499999999999997,
          0.32499999999999996,
          0.37499999999999994,
          0.42499999999999993,
          0.4897368421052631,
          0.5397368421052631,
          0.5897368421052631,
          0.6397368421052632,
          0.6897368421052632,
          0.7607894736842106,
          0.8171052631578948,
          0.8692105263157895,
          0.9465789473684212,
          1.021842105263158,
          1.080263157894737,
          1.1344736842105265,
          1.1907894736842108,
          1.2597368421052635,
          1.3855263157894742,
          1.4839473684210531,
          1.5634210526315795,
          1.6134210526315795,
          1.796052631578948,
          1.846052631578948,
          1.9971052631578954,
          2.047105263157895,
          2.1813157894736843,
          2.231315789473684,
          2.4455263157894733,
          2.495526315789473,
          2.6697368421052623,
          2.719736842105262
         ],
         "title": {
          "text": "Year"
         }
        },
        "yaxis": {
         "gridcolor": "lightgray",
         "tickformat": ".0%",
         "title": {
          "text": "Proporção de Medalhas"
         }
        }
       }
      }
     },
     "metadata": {},
     "output_type": "display_data"
    }
   ],
   "source": [
    "def plot_marimekko(dataframe, country):\n",
    "    unique_years = dataframe['Year'].unique()\n",
    "    # Filter data for the specified country\n",
    "    df_country = dataframe[dataframe['NOC'] == country]\n",
    "    df_country.loc[:, 'Medal'] = df_country['Medal'].replace({'Silver': 'Prata', 'Gold': 'Ouro'})\n",
    "\n",
    "\n",
    "    # Group by year and medal type and count the number of medals\n",
    "    medal_counts = df_country.groupby(['Year', 'Medal']).size().reset_index(name='count')\n",
    "    medal_counts = fill_in_years(medal_counts, unique_years)\n",
    "    # Pivot the dataframe to have medal types as columns\n",
    "    medal_pivot = medal_counts.pivot(index='Year', columns='Medal', values='count').fillna(0)\n",
    "\n",
    "    # Calculate total medals per year and proportions for each medal type\n",
    "    medal_pivot['total'] = medal_pivot.sum(axis=1)\n",
    "    for medal in ['Ouro', 'Prata', 'Bronze']:\n",
    "        medal_pivot[f'Medalhas de {medal}'] = medal_pivot[medal] / medal_pivot['total']\n",
    "\n",
    "    # Normalize widths based on the total medals to fit the graph size\n",
    "    total_medals = medal_pivot['total'].sum()\n",
    "    medal_pivot['width'] = medal_pivot['total'] / total_medals\n",
    "\n",
    "    # Compute the x positions for bars to ensure they are properly centered\n",
    "    bar_width = 0.25  # Width of each bar\n",
    "    padding = 0.05  # Padding between bars\n",
    "    x_positions = [bar_width / 2]  # Starting position for the first bar\n",
    "    for width in medal_pivot['width'][:-1]:\n",
    "        x_positions.append(x_positions[-1] + width + padding)  # Add padding between bars\n",
    "    medal_pivot['x'] = x_positions\n",
    "\n",
    "    # Create the Marimekko chart with adjusted x-axis\n",
    "    fig = go.Figure()\n",
    "\n",
    "    # Add bronze trace first\n",
    "    fig.add_trace(go.Bar(\n",
    "        x=medal_pivot['x'],\n",
    "        y=medal_pivot['Medalhas de Bronze'],\n",
    "        width=medal_pivot['width'],\n",
    "        base=0,\n",
    "        marker=dict(color='#cd7f32'),\n",
    "        name='Bronze',\n",
    "        customdata=medal_pivot['total'],\n",
    "        hovertemplate='Year: %{x}<br>Total de Medalhas: %{customdata}<br>Proporção de Bronzes: %{y:.2f}<extra></extra>',\n",
    "    ))\n",
    "\n",
    "    # Add silver trace second\n",
    "    fig.add_trace(go.Bar(\n",
    "        x=medal_pivot['x'],\n",
    "        y=medal_pivot['Medalhas de Prata'],\n",
    "        width=medal_pivot['width'],\n",
    "        base=medal_pivot['Medalhas de Bronze'],\n",
    "        marker=dict(color='#c0c0c0'),\n",
    "        name='Prata',\n",
    "        customdata=medal_pivot['total'],\n",
    "        hovertemplate='Year: %{x}<br>Total de Medalhas: %{customdata}<br>Proporção de Pratas: %{y:.2f}<extra></extra>',\n",
    "    ))\n",
    "\n",
    "    # Add gold trace last\n",
    "    fig.add_trace(go.Bar(\n",
    "        x=medal_pivot['x'],\n",
    "        y=medal_pivot['Medalhas de Ouro'],\n",
    "        width=medal_pivot['width'],\n",
    "        base=medal_pivot['Medalhas de Bronze'] + medal_pivot['Medalhas de Prata'],\n",
    "        marker=dict(color='#ffd700'),\n",
    "        name='Ouro',\n",
    "        customdata=medal_pivot['total'],\n",
    "        hovertemplate='Year: %{x}<br>Total de Medalhas: %{customdata}<br>Proporção de Ouros: %{y:.2f}<extra></extra>',\n",
    "    ))\n",
    "\n",
    "    # Add transparent phantom bars where medal count is 0\n",
    "    for year in medal_pivot.index:\n",
    "        for medal in ['Ouro', 'Prata', 'Bronze']:\n",
    "            if medal_pivot.at[year, f'Medalhas de {medal}'] == 0:\n",
    "                fig.add_trace(go.Bar(\n",
    "                    x=[medal_pivot.at[year, 'x']],\n",
    "                    y=[0],  # Phantom bar at y=0\n",
    "                    width=[medal_pivot.at[year, 'width']],\n",
    "                    base=0,\n",
    "                    marker=dict(color='rgba(0,0,0,0)'),  # Transparent marker\n",
    "                    showlegend=False,  # Do not show in legend\n",
    "                ))\n",
    "\n",
    "    # Update layout for the Marimekko chart\n",
    "    fig.update_layout(\n",
    "        title=f'Proporção de Medalhas - {country}',\n",
    "        barmode='stack',\n",
    "        plot_bgcolor='white',  # Set the background color to white\n",
    "        xaxis=dict(\n",
    "            title='Year',\n",
    "            tickmode='array',\n",
    "            tickvals=medal_pivot['x'],\n",
    "            ticktext=medal_pivot.index.astype(str),\n",
    "            showgrid=False,  # Hide vertical grid lines\n",
    "        ),\n",
    "        yaxis=dict(\n",
    "            title='Proporção de Medalhas',\n",
    "            tickformat='.0%',\n",
    "            gridcolor='lightgray',  # Set horizontal grid lines to light gray\n",
    "        ),\n",
    "    )\n",
    "\n",
    "    fig.show()\n",
    "\n",
    "plot_marimekko(df, 'BRA')\n",
    "\n"
   ]
  },
  {
   "cell_type": "code",
   "execution_count": 5,
   "metadata": {},
   "outputs": [],
   "source": [
    "country = 'BRA'"
   ]
  },
  {
   "cell_type": "code",
   "execution_count": null,
   "metadata": {},
   "outputs": [],
   "source": []
  }
 ],
 "metadata": {
  "kernelspec": {
   "display_name": "infoviz",
   "language": "python",
   "name": "python3"
  },
  "language_info": {
   "codemirror_mode": {
    "name": "ipython",
    "version": 3
   },
   "file_extension": ".py",
   "mimetype": "text/x-python",
   "name": "python",
   "nbconvert_exporter": "python",
   "pygments_lexer": "ipython3",
   "version": "3.12.3"
  }
 },
 "nbformat": 4,
 "nbformat_minor": 2
}
