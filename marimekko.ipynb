{
 "cells": [
  {
   "cell_type": "code",
   "execution_count": 1,
   "metadata": {},
   "outputs": [],
   "source": [
    "import pandas as pd\n",
    "import plotly.express as px"
   ]
  },
  {
   "cell_type": "code",
   "execution_count": 2,
   "metadata": {},
   "outputs": [
    {
     "data": {
      "text/html": [
       "<div>\n",
       "<style scoped>\n",
       "    .dataframe tbody tr th:only-of-type {\n",
       "        vertical-align: middle;\n",
       "    }\n",
       "\n",
       "    .dataframe tbody tr th {\n",
       "        vertical-align: top;\n",
       "    }\n",
       "\n",
       "    .dataframe thead th {\n",
       "        text-align: right;\n",
       "    }\n",
       "</style>\n",
       "<table border=\"1\" class=\"dataframe\">\n",
       "  <thead>\n",
       "    <tr style=\"text-align: right;\">\n",
       "      <th></th>\n",
       "      <th>ID</th>\n",
       "      <th>Name</th>\n",
       "      <th>Sex</th>\n",
       "      <th>Age</th>\n",
       "      <th>Height</th>\n",
       "      <th>Weight</th>\n",
       "      <th>Team</th>\n",
       "      <th>NOC</th>\n",
       "      <th>Games</th>\n",
       "      <th>Year</th>\n",
       "      <th>Season</th>\n",
       "      <th>City</th>\n",
       "      <th>Sport</th>\n",
       "      <th>Event</th>\n",
       "      <th>Medal</th>\n",
       "    </tr>\n",
       "  </thead>\n",
       "  <tbody>\n",
       "    <tr>\n",
       "      <th>0</th>\n",
       "      <td>1</td>\n",
       "      <td>A Dijiang</td>\n",
       "      <td>M</td>\n",
       "      <td>24.0</td>\n",
       "      <td>180.0</td>\n",
       "      <td>80.0</td>\n",
       "      <td>China</td>\n",
       "      <td>CHN</td>\n",
       "      <td>1992 Summer</td>\n",
       "      <td>1992</td>\n",
       "      <td>Summer</td>\n",
       "      <td>Barcelona</td>\n",
       "      <td>Basketball</td>\n",
       "      <td>Basketball Men's Basketball</td>\n",
       "      <td>NaN</td>\n",
       "    </tr>\n",
       "    <tr>\n",
       "      <th>1</th>\n",
       "      <td>2</td>\n",
       "      <td>A Lamusi</td>\n",
       "      <td>M</td>\n",
       "      <td>23.0</td>\n",
       "      <td>170.0</td>\n",
       "      <td>60.0</td>\n",
       "      <td>China</td>\n",
       "      <td>CHN</td>\n",
       "      <td>2012 Summer</td>\n",
       "      <td>2012</td>\n",
       "      <td>Summer</td>\n",
       "      <td>London</td>\n",
       "      <td>Judo</td>\n",
       "      <td>Judo Men's Extra-Lightweight</td>\n",
       "      <td>NaN</td>\n",
       "    </tr>\n",
       "    <tr>\n",
       "      <th>2</th>\n",
       "      <td>3</td>\n",
       "      <td>Gunnar Nielsen Aaby</td>\n",
       "      <td>M</td>\n",
       "      <td>24.0</td>\n",
       "      <td>NaN</td>\n",
       "      <td>NaN</td>\n",
       "      <td>Denmark</td>\n",
       "      <td>DEN</td>\n",
       "      <td>1920 Summer</td>\n",
       "      <td>1920</td>\n",
       "      <td>Summer</td>\n",
       "      <td>Antwerpen</td>\n",
       "      <td>Football</td>\n",
       "      <td>Football Men's Football</td>\n",
       "      <td>NaN</td>\n",
       "    </tr>\n",
       "    <tr>\n",
       "      <th>3</th>\n",
       "      <td>4</td>\n",
       "      <td>Edgar Lindenau Aabye</td>\n",
       "      <td>M</td>\n",
       "      <td>34.0</td>\n",
       "      <td>NaN</td>\n",
       "      <td>NaN</td>\n",
       "      <td>Denmark/Sweden</td>\n",
       "      <td>DEN</td>\n",
       "      <td>1900 Summer</td>\n",
       "      <td>1900</td>\n",
       "      <td>Summer</td>\n",
       "      <td>Paris</td>\n",
       "      <td>Tug-Of-War</td>\n",
       "      <td>Tug-Of-War Men's Tug-Of-War</td>\n",
       "      <td>Gold</td>\n",
       "    </tr>\n",
       "    <tr>\n",
       "      <th>4</th>\n",
       "      <td>5</td>\n",
       "      <td>Christine Jacoba Aaftink</td>\n",
       "      <td>F</td>\n",
       "      <td>21.0</td>\n",
       "      <td>185.0</td>\n",
       "      <td>82.0</td>\n",
       "      <td>Netherlands</td>\n",
       "      <td>NED</td>\n",
       "      <td>1988 Winter</td>\n",
       "      <td>1988</td>\n",
       "      <td>Winter</td>\n",
       "      <td>Calgary</td>\n",
       "      <td>Speed Skating</td>\n",
       "      <td>Speed Skating Women's 500 metres</td>\n",
       "      <td>NaN</td>\n",
       "    </tr>\n",
       "    <tr>\n",
       "      <th>...</th>\n",
       "      <td>...</td>\n",
       "      <td>...</td>\n",
       "      <td>...</td>\n",
       "      <td>...</td>\n",
       "      <td>...</td>\n",
       "      <td>...</td>\n",
       "      <td>...</td>\n",
       "      <td>...</td>\n",
       "      <td>...</td>\n",
       "      <td>...</td>\n",
       "      <td>...</td>\n",
       "      <td>...</td>\n",
       "      <td>...</td>\n",
       "      <td>...</td>\n",
       "      <td>...</td>\n",
       "    </tr>\n",
       "    <tr>\n",
       "      <th>271111</th>\n",
       "      <td>135569</td>\n",
       "      <td>Andrzej ya</td>\n",
       "      <td>M</td>\n",
       "      <td>29.0</td>\n",
       "      <td>179.0</td>\n",
       "      <td>89.0</td>\n",
       "      <td>Poland-1</td>\n",
       "      <td>POL</td>\n",
       "      <td>1976 Winter</td>\n",
       "      <td>1976</td>\n",
       "      <td>Winter</td>\n",
       "      <td>Innsbruck</td>\n",
       "      <td>Luge</td>\n",
       "      <td>Luge Mixed (Men)'s Doubles</td>\n",
       "      <td>NaN</td>\n",
       "    </tr>\n",
       "    <tr>\n",
       "      <th>271112</th>\n",
       "      <td>135570</td>\n",
       "      <td>Piotr ya</td>\n",
       "      <td>M</td>\n",
       "      <td>27.0</td>\n",
       "      <td>176.0</td>\n",
       "      <td>59.0</td>\n",
       "      <td>Poland</td>\n",
       "      <td>POL</td>\n",
       "      <td>2014 Winter</td>\n",
       "      <td>2014</td>\n",
       "      <td>Winter</td>\n",
       "      <td>Sochi</td>\n",
       "      <td>Ski Jumping</td>\n",
       "      <td>Ski Jumping Men's Large Hill, Individual</td>\n",
       "      <td>NaN</td>\n",
       "    </tr>\n",
       "    <tr>\n",
       "      <th>271113</th>\n",
       "      <td>135570</td>\n",
       "      <td>Piotr ya</td>\n",
       "      <td>M</td>\n",
       "      <td>27.0</td>\n",
       "      <td>176.0</td>\n",
       "      <td>59.0</td>\n",
       "      <td>Poland</td>\n",
       "      <td>POL</td>\n",
       "      <td>2014 Winter</td>\n",
       "      <td>2014</td>\n",
       "      <td>Winter</td>\n",
       "      <td>Sochi</td>\n",
       "      <td>Ski Jumping</td>\n",
       "      <td>Ski Jumping Men's Large Hill, Team</td>\n",
       "      <td>NaN</td>\n",
       "    </tr>\n",
       "    <tr>\n",
       "      <th>271114</th>\n",
       "      <td>135571</td>\n",
       "      <td>Tomasz Ireneusz ya</td>\n",
       "      <td>M</td>\n",
       "      <td>30.0</td>\n",
       "      <td>185.0</td>\n",
       "      <td>96.0</td>\n",
       "      <td>Poland</td>\n",
       "      <td>POL</td>\n",
       "      <td>1998 Winter</td>\n",
       "      <td>1998</td>\n",
       "      <td>Winter</td>\n",
       "      <td>Nagano</td>\n",
       "      <td>Bobsleigh</td>\n",
       "      <td>Bobsleigh Men's Four</td>\n",
       "      <td>NaN</td>\n",
       "    </tr>\n",
       "    <tr>\n",
       "      <th>271115</th>\n",
       "      <td>135571</td>\n",
       "      <td>Tomasz Ireneusz ya</td>\n",
       "      <td>M</td>\n",
       "      <td>34.0</td>\n",
       "      <td>185.0</td>\n",
       "      <td>96.0</td>\n",
       "      <td>Poland</td>\n",
       "      <td>POL</td>\n",
       "      <td>2002 Winter</td>\n",
       "      <td>2002</td>\n",
       "      <td>Winter</td>\n",
       "      <td>Salt Lake City</td>\n",
       "      <td>Bobsleigh</td>\n",
       "      <td>Bobsleigh Men's Four</td>\n",
       "      <td>NaN</td>\n",
       "    </tr>\n",
       "  </tbody>\n",
       "</table>\n",
       "<p>271116 rows × 15 columns</p>\n",
       "</div>"
      ],
      "text/plain": [
       "            ID                      Name Sex   Age  Height  Weight  \\\n",
       "0            1                 A Dijiang   M  24.0   180.0    80.0   \n",
       "1            2                  A Lamusi   M  23.0   170.0    60.0   \n",
       "2            3       Gunnar Nielsen Aaby   M  24.0     NaN     NaN   \n",
       "3            4      Edgar Lindenau Aabye   M  34.0     NaN     NaN   \n",
       "4            5  Christine Jacoba Aaftink   F  21.0   185.0    82.0   \n",
       "...        ...                       ...  ..   ...     ...     ...   \n",
       "271111  135569                Andrzej ya   M  29.0   179.0    89.0   \n",
       "271112  135570                  Piotr ya   M  27.0   176.0    59.0   \n",
       "271113  135570                  Piotr ya   M  27.0   176.0    59.0   \n",
       "271114  135571        Tomasz Ireneusz ya   M  30.0   185.0    96.0   \n",
       "271115  135571        Tomasz Ireneusz ya   M  34.0   185.0    96.0   \n",
       "\n",
       "                  Team  NOC        Games  Year  Season            City  \\\n",
       "0                China  CHN  1992 Summer  1992  Summer       Barcelona   \n",
       "1                China  CHN  2012 Summer  2012  Summer          London   \n",
       "2              Denmark  DEN  1920 Summer  1920  Summer       Antwerpen   \n",
       "3       Denmark/Sweden  DEN  1900 Summer  1900  Summer           Paris   \n",
       "4          Netherlands  NED  1988 Winter  1988  Winter         Calgary   \n",
       "...                ...  ...          ...   ...     ...             ...   \n",
       "271111        Poland-1  POL  1976 Winter  1976  Winter       Innsbruck   \n",
       "271112          Poland  POL  2014 Winter  2014  Winter           Sochi   \n",
       "271113          Poland  POL  2014 Winter  2014  Winter           Sochi   \n",
       "271114          Poland  POL  1998 Winter  1998  Winter          Nagano   \n",
       "271115          Poland  POL  2002 Winter  2002  Winter  Salt Lake City   \n",
       "\n",
       "                Sport                                     Event Medal  \n",
       "0          Basketball               Basketball Men's Basketball   NaN  \n",
       "1                Judo              Judo Men's Extra-Lightweight   NaN  \n",
       "2            Football                   Football Men's Football   NaN  \n",
       "3          Tug-Of-War               Tug-Of-War Men's Tug-Of-War  Gold  \n",
       "4       Speed Skating          Speed Skating Women's 500 metres   NaN  \n",
       "...               ...                                       ...   ...  \n",
       "271111           Luge                Luge Mixed (Men)'s Doubles   NaN  \n",
       "271112    Ski Jumping  Ski Jumping Men's Large Hill, Individual   NaN  \n",
       "271113    Ski Jumping        Ski Jumping Men's Large Hill, Team   NaN  \n",
       "271114      Bobsleigh                      Bobsleigh Men's Four   NaN  \n",
       "271115      Bobsleigh                      Bobsleigh Men's Four   NaN  \n",
       "\n",
       "[271116 rows x 15 columns]"
      ]
     },
     "execution_count": 2,
     "metadata": {},
     "output_type": "execute_result"
    }
   ],
   "source": [
    "df = pd.read_csv('athlete_events.csv')\n",
    "df"
   ]
  },
  {
   "cell_type": "code",
   "execution_count": 3,
   "metadata": {},
   "outputs": [
    {
     "data": {
      "text/html": [
       "<div>\n",
       "<style scoped>\n",
       "    .dataframe tbody tr th:only-of-type {\n",
       "        vertical-align: middle;\n",
       "    }\n",
       "\n",
       "    .dataframe tbody tr th {\n",
       "        vertical-align: top;\n",
       "    }\n",
       "\n",
       "    .dataframe thead th {\n",
       "        text-align: right;\n",
       "    }\n",
       "</style>\n",
       "<table border=\"1\" class=\"dataframe\">\n",
       "  <thead>\n",
       "    <tr style=\"text-align: right;\">\n",
       "      <th></th>\n",
       "      <th>ID</th>\n",
       "      <th>Name</th>\n",
       "      <th>Sex</th>\n",
       "      <th>Age</th>\n",
       "      <th>Height</th>\n",
       "      <th>Weight</th>\n",
       "      <th>Team</th>\n",
       "      <th>NOC</th>\n",
       "      <th>Games</th>\n",
       "      <th>Year</th>\n",
       "      <th>Season</th>\n",
       "      <th>City</th>\n",
       "      <th>Sport</th>\n",
       "      <th>Event</th>\n",
       "      <th>Medal</th>\n",
       "    </tr>\n",
       "  </thead>\n",
       "  <tbody>\n",
       "    <tr>\n",
       "      <th>3</th>\n",
       "      <td>4</td>\n",
       "      <td>Edgar Lindenau Aabye</td>\n",
       "      <td>M</td>\n",
       "      <td>34.0</td>\n",
       "      <td>NaN</td>\n",
       "      <td>NaN</td>\n",
       "      <td>Denmark/Sweden</td>\n",
       "      <td>DEN</td>\n",
       "      <td>1900 Summer</td>\n",
       "      <td>1900</td>\n",
       "      <td>Summer</td>\n",
       "      <td>Paris</td>\n",
       "      <td>Tug-Of-War</td>\n",
       "      <td>Tug-Of-War Men's Tug-Of-War</td>\n",
       "      <td>Gold</td>\n",
       "    </tr>\n",
       "    <tr>\n",
       "      <th>37</th>\n",
       "      <td>15</td>\n",
       "      <td>Arvo Ossian Aaltonen</td>\n",
       "      <td>M</td>\n",
       "      <td>30.0</td>\n",
       "      <td>NaN</td>\n",
       "      <td>NaN</td>\n",
       "      <td>Finland</td>\n",
       "      <td>FIN</td>\n",
       "      <td>1920 Summer</td>\n",
       "      <td>1920</td>\n",
       "      <td>Summer</td>\n",
       "      <td>Antwerpen</td>\n",
       "      <td>Swimming</td>\n",
       "      <td>Swimming Men's 200 metres Breaststroke</td>\n",
       "      <td>Bronze</td>\n",
       "    </tr>\n",
       "    <tr>\n",
       "      <th>38</th>\n",
       "      <td>15</td>\n",
       "      <td>Arvo Ossian Aaltonen</td>\n",
       "      <td>M</td>\n",
       "      <td>30.0</td>\n",
       "      <td>NaN</td>\n",
       "      <td>NaN</td>\n",
       "      <td>Finland</td>\n",
       "      <td>FIN</td>\n",
       "      <td>1920 Summer</td>\n",
       "      <td>1920</td>\n",
       "      <td>Summer</td>\n",
       "      <td>Antwerpen</td>\n",
       "      <td>Swimming</td>\n",
       "      <td>Swimming Men's 400 metres Breaststroke</td>\n",
       "      <td>Bronze</td>\n",
       "    </tr>\n",
       "    <tr>\n",
       "      <th>40</th>\n",
       "      <td>16</td>\n",
       "      <td>Juhamatti Tapio Aaltonen</td>\n",
       "      <td>M</td>\n",
       "      <td>28.0</td>\n",
       "      <td>184.0</td>\n",
       "      <td>85.0</td>\n",
       "      <td>Finland</td>\n",
       "      <td>FIN</td>\n",
       "      <td>2014 Winter</td>\n",
       "      <td>2014</td>\n",
       "      <td>Winter</td>\n",
       "      <td>Sochi</td>\n",
       "      <td>Ice Hockey</td>\n",
       "      <td>Ice Hockey Men's Ice Hockey</td>\n",
       "      <td>Bronze</td>\n",
       "    </tr>\n",
       "    <tr>\n",
       "      <th>41</th>\n",
       "      <td>17</td>\n",
       "      <td>Paavo Johannes Aaltonen</td>\n",
       "      <td>M</td>\n",
       "      <td>28.0</td>\n",
       "      <td>175.0</td>\n",
       "      <td>64.0</td>\n",
       "      <td>Finland</td>\n",
       "      <td>FIN</td>\n",
       "      <td>1948 Summer</td>\n",
       "      <td>1948</td>\n",
       "      <td>Summer</td>\n",
       "      <td>London</td>\n",
       "      <td>Gymnastics</td>\n",
       "      <td>Gymnastics Men's Individual All-Around</td>\n",
       "      <td>Bronze</td>\n",
       "    </tr>\n",
       "    <tr>\n",
       "      <th>...</th>\n",
       "      <td>...</td>\n",
       "      <td>...</td>\n",
       "      <td>...</td>\n",
       "      <td>...</td>\n",
       "      <td>...</td>\n",
       "      <td>...</td>\n",
       "      <td>...</td>\n",
       "      <td>...</td>\n",
       "      <td>...</td>\n",
       "      <td>...</td>\n",
       "      <td>...</td>\n",
       "      <td>...</td>\n",
       "      <td>...</td>\n",
       "      <td>...</td>\n",
       "      <td>...</td>\n",
       "    </tr>\n",
       "    <tr>\n",
       "      <th>271078</th>\n",
       "      <td>135553</td>\n",
       "      <td>Galina Ivanovna Zybina (-Fyodorova)</td>\n",
       "      <td>F</td>\n",
       "      <td>25.0</td>\n",
       "      <td>168.0</td>\n",
       "      <td>80.0</td>\n",
       "      <td>Soviet Union</td>\n",
       "      <td>URS</td>\n",
       "      <td>1956 Summer</td>\n",
       "      <td>1956</td>\n",
       "      <td>Summer</td>\n",
       "      <td>Melbourne</td>\n",
       "      <td>Athletics</td>\n",
       "      <td>Athletics Women's Shot Put</td>\n",
       "      <td>Silver</td>\n",
       "    </tr>\n",
       "    <tr>\n",
       "      <th>271080</th>\n",
       "      <td>135553</td>\n",
       "      <td>Galina Ivanovna Zybina (-Fyodorova)</td>\n",
       "      <td>F</td>\n",
       "      <td>33.0</td>\n",
       "      <td>168.0</td>\n",
       "      <td>80.0</td>\n",
       "      <td>Soviet Union</td>\n",
       "      <td>URS</td>\n",
       "      <td>1964 Summer</td>\n",
       "      <td>1964</td>\n",
       "      <td>Summer</td>\n",
       "      <td>Tokyo</td>\n",
       "      <td>Athletics</td>\n",
       "      <td>Athletics Women's Shot Put</td>\n",
       "      <td>Bronze</td>\n",
       "    </tr>\n",
       "    <tr>\n",
       "      <th>271082</th>\n",
       "      <td>135554</td>\n",
       "      <td>Bogusaw Zych</td>\n",
       "      <td>M</td>\n",
       "      <td>28.0</td>\n",
       "      <td>182.0</td>\n",
       "      <td>82.0</td>\n",
       "      <td>Poland</td>\n",
       "      <td>POL</td>\n",
       "      <td>1980 Summer</td>\n",
       "      <td>1980</td>\n",
       "      <td>Summer</td>\n",
       "      <td>Moskva</td>\n",
       "      <td>Fencing</td>\n",
       "      <td>Fencing Men's Foil, Team</td>\n",
       "      <td>Bronze</td>\n",
       "    </tr>\n",
       "    <tr>\n",
       "      <th>271102</th>\n",
       "      <td>135563</td>\n",
       "      <td>Olesya Nikolayevna Zykina</td>\n",
       "      <td>F</td>\n",
       "      <td>19.0</td>\n",
       "      <td>171.0</td>\n",
       "      <td>64.0</td>\n",
       "      <td>Russia</td>\n",
       "      <td>RUS</td>\n",
       "      <td>2000 Summer</td>\n",
       "      <td>2000</td>\n",
       "      <td>Summer</td>\n",
       "      <td>Sydney</td>\n",
       "      <td>Athletics</td>\n",
       "      <td>Athletics Women's 4 x 400 metres Relay</td>\n",
       "      <td>Bronze</td>\n",
       "    </tr>\n",
       "    <tr>\n",
       "      <th>271103</th>\n",
       "      <td>135563</td>\n",
       "      <td>Olesya Nikolayevna Zykina</td>\n",
       "      <td>F</td>\n",
       "      <td>23.0</td>\n",
       "      <td>171.0</td>\n",
       "      <td>64.0</td>\n",
       "      <td>Russia</td>\n",
       "      <td>RUS</td>\n",
       "      <td>2004 Summer</td>\n",
       "      <td>2004</td>\n",
       "      <td>Summer</td>\n",
       "      <td>Athina</td>\n",
       "      <td>Athletics</td>\n",
       "      <td>Athletics Women's 4 x 400 metres Relay</td>\n",
       "      <td>Silver</td>\n",
       "    </tr>\n",
       "  </tbody>\n",
       "</table>\n",
       "<p>39783 rows × 15 columns</p>\n",
       "</div>"
      ],
      "text/plain": [
       "            ID                                 Name Sex   Age  Height  Weight  \\\n",
       "3            4                 Edgar Lindenau Aabye   M  34.0     NaN     NaN   \n",
       "37          15                 Arvo Ossian Aaltonen   M  30.0     NaN     NaN   \n",
       "38          15                 Arvo Ossian Aaltonen   M  30.0     NaN     NaN   \n",
       "40          16             Juhamatti Tapio Aaltonen   M  28.0   184.0    85.0   \n",
       "41          17              Paavo Johannes Aaltonen   M  28.0   175.0    64.0   \n",
       "...        ...                                  ...  ..   ...     ...     ...   \n",
       "271078  135553  Galina Ivanovna Zybina (-Fyodorova)   F  25.0   168.0    80.0   \n",
       "271080  135553  Galina Ivanovna Zybina (-Fyodorova)   F  33.0   168.0    80.0   \n",
       "271082  135554                         Bogusaw Zych   M  28.0   182.0    82.0   \n",
       "271102  135563            Olesya Nikolayevna Zykina   F  19.0   171.0    64.0   \n",
       "271103  135563            Olesya Nikolayevna Zykina   F  23.0   171.0    64.0   \n",
       "\n",
       "                  Team  NOC        Games  Year  Season       City       Sport  \\\n",
       "3       Denmark/Sweden  DEN  1900 Summer  1900  Summer      Paris  Tug-Of-War   \n",
       "37             Finland  FIN  1920 Summer  1920  Summer  Antwerpen    Swimming   \n",
       "38             Finland  FIN  1920 Summer  1920  Summer  Antwerpen    Swimming   \n",
       "40             Finland  FIN  2014 Winter  2014  Winter      Sochi  Ice Hockey   \n",
       "41             Finland  FIN  1948 Summer  1948  Summer     London  Gymnastics   \n",
       "...                ...  ...          ...   ...     ...        ...         ...   \n",
       "271078    Soviet Union  URS  1956 Summer  1956  Summer  Melbourne   Athletics   \n",
       "271080    Soviet Union  URS  1964 Summer  1964  Summer      Tokyo   Athletics   \n",
       "271082          Poland  POL  1980 Summer  1980  Summer     Moskva     Fencing   \n",
       "271102          Russia  RUS  2000 Summer  2000  Summer     Sydney   Athletics   \n",
       "271103          Russia  RUS  2004 Summer  2004  Summer     Athina   Athletics   \n",
       "\n",
       "                                         Event   Medal  \n",
       "3                  Tug-Of-War Men's Tug-Of-War    Gold  \n",
       "37      Swimming Men's 200 metres Breaststroke  Bronze  \n",
       "38      Swimming Men's 400 metres Breaststroke  Bronze  \n",
       "40                 Ice Hockey Men's Ice Hockey  Bronze  \n",
       "41      Gymnastics Men's Individual All-Around  Bronze  \n",
       "...                                        ...     ...  \n",
       "271078              Athletics Women's Shot Put  Silver  \n",
       "271080              Athletics Women's Shot Put  Bronze  \n",
       "271082                Fencing Men's Foil, Team  Bronze  \n",
       "271102  Athletics Women's 4 x 400 metres Relay  Bronze  \n",
       "271103  Athletics Women's 4 x 400 metres Relay  Silver  \n",
       "\n",
       "[39783 rows x 15 columns]"
      ]
     },
     "execution_count": 3,
     "metadata": {},
     "output_type": "execute_result"
    }
   ],
   "source": [
    "# filtering only values with \n",
    "df_med = df[~df['Medal'].isna()]\n",
    "df_med"
   ]
  },
  {
   "cell_type": "code",
   "execution_count": 6,
   "metadata": {},
   "outputs": [
    {
     "data": {
      "application/vnd.plotly.v1+json": {
       "config": {
        "plotlyServerURL": "https://plot.ly"
       },
       "data": [
        {
         "customdata": [
          20,
          63,
          394,
          24,
          65,
          107,
          194,
          194,
          102,
          223,
          112,
          168,
          164,
          149,
          152,
          177,
          173,
          195,
          175,
          30,
          361,
          214,
          238,
          19,
          259,
          34,
          242,
          84,
          263,
          52,
          317,
          97,
          248,
          64,
          264
         ],
         "hovertemplate": "Year: %{x}<br>Total Medals: %{customdata}<br>Proportion Bronze: %{y:.2f}<extra></extra>",
         "marker": {
          "color": "brown"
         },
         "name": "Bronze",
         "type": "bar",
         "width": [
          0.003547986517651233,
          0.011176157530601383,
          0.06989533439772928,
          0.004257583821181479,
          0.011530956182366508,
          0.018981727869434094,
          0.03441546922121696,
          0.03441546922121696,
          0.018094731240021287,
          0.039560049671811245,
          0.019868724498846906,
          0.029803086748270355,
          0.02909348944474011,
          0.026432499556501687,
          0.02696469753414937,
          0.03139968068121341,
          0.030690083377683166,
          0.034592868547099524,
          0.031044882029448287,
          0.005321979776476849,
          0.06404115664360475,
          0.03796345573886819,
          0.042221039560049675,
          0.0033705871917686712,
          0.045946425403583464,
          0.006031577080007096,
          0.04293063686357992,
          0.014901543374135177,
          0.04665602270711371,
          0.009224764945893206,
          0.056235586304772045,
          0.01720773461060848,
          0.04399503281887529,
          0.011353556856483945,
          0.04683342203299627
         ],
         "x": [
          0,
          0.003547986517651233,
          0.014724144048252615,
          0.0846194784459819,
          0.08887706226716338,
          0.10040801844952989,
          0.11938974631896399,
          0.15380521554018095,
          0.18822068476139792,
          0.2063154160014192,
          0.24587546567323043,
          0.26574419017207734,
          0.2955472769203477,
          0.3246407663650878,
          0.3510732659215895,
          0.37803796345573887,
          0.4094376441369523,
          0.4401277275146354,
          0.47472059606173495,
          0.5057654780911832,
          0.5110874578676601,
          0.5751286145112648,
          0.613092070250133,
          0.6553131098101826,
          0.6586836970019513,
          0.7046301224055348,
          0.7106616994855419,
          0.7535923363491218,
          0.768493879723257,
          0.8151499024303707,
          0.8243746673762639,
          0.8806102536810358,
          0.8978179882916443,
          0.9418130211105196,
          0.9531665779670035
         ],
         "y": [
          1,
          2,
          3,
          4,
          5,
          6,
          7,
          8,
          9,
          10,
          11,
          12,
          13,
          14,
          15,
          16,
          17,
          18,
          19,
          20,
          21,
          22,
          23,
          24,
          25,
          26,
          27,
          28,
          29,
          30,
          31,
          32,
          33,
          34,
          35
         ]
        },
        {
         "customdata": [
          20,
          63,
          394,
          24,
          65,
          107,
          194,
          194,
          102,
          223,
          112,
          168,
          164,
          149,
          152,
          177,
          173,
          195,
          175,
          30,
          361,
          214,
          238,
          19,
          259,
          34,
          242,
          84,
          263,
          52,
          317,
          97,
          248,
          64,
          264
         ],
         "hovertemplate": "Year: %{x}<br>Total Medals: %{customdata}<br>Proportion Silver: %{y:.2f}<extra></extra>",
         "marker": {
          "color": "silver"
         },
         "name": "Silver",
         "type": "bar",
         "width": [
          0.003547986517651233,
          0.011176157530601383,
          0.06989533439772928,
          0.004257583821181479,
          0.011530956182366508,
          0.018981727869434094,
          0.03441546922121696,
          0.03441546922121696,
          0.018094731240021287,
          0.039560049671811245,
          0.019868724498846906,
          0.029803086748270355,
          0.02909348944474011,
          0.026432499556501687,
          0.02696469753414937,
          0.03139968068121341,
          0.030690083377683166,
          0.034592868547099524,
          0.031044882029448287,
          0.005321979776476849,
          0.06404115664360475,
          0.03796345573886819,
          0.042221039560049675,
          0.0033705871917686712,
          0.045946425403583464,
          0.006031577080007096,
          0.04293063686357992,
          0.014901543374135177,
          0.04665602270711371,
          0.009224764945893206,
          0.056235586304772045,
          0.01720773461060848,
          0.04399503281887529,
          0.011353556856483945,
          0.04683342203299627
         ],
         "x": [
          0,
          0.003547986517651233,
          0.014724144048252615,
          0.0846194784459819,
          0.08887706226716338,
          0.10040801844952989,
          0.11938974631896399,
          0.15380521554018095,
          0.18822068476139792,
          0.2063154160014192,
          0.24587546567323043,
          0.26574419017207734,
          0.2955472769203477,
          0.3246407663650878,
          0.3510732659215895,
          0.37803796345573887,
          0.4094376441369523,
          0.4401277275146354,
          0.47472059606173495,
          0.5057654780911832,
          0.5110874578676601,
          0.5751286145112648,
          0.613092070250133,
          0.6553131098101826,
          0.6586836970019513,
          0.7046301224055348,
          0.7106616994855419,
          0.7535923363491218,
          0.768493879723257,
          0.8151499024303707,
          0.8243746673762639,
          0.8806102536810358,
          0.8978179882916443,
          0.9418130211105196,
          0.9531665779670035
         ],
         "y": [
          0.9,
          1.6301587301587301,
          2.3128998469099993,
          3.0628998469099993,
          3.8321306161407684,
          4.495682018009927,
          5.299805729350133,
          6.042073770587247,
          6.855799260783325,
          7.568803745088258,
          8.300946602231114,
          9.056898983183496,
          9.880069714890812,
          10.712284479991483,
          11.547810795780958,
          12.310522660187738,
          13.102430174638606,
          13.86653273874117,
          14.632247024455456,
          15.56558035778879,
          16.427076202664136,
          17.156048165280957,
          17.79050194679356,
          18.52734405205672,
          19.32657185128452,
          20.179513027755107,
          20.968769226102214,
          21.790197797530787,
          22.520235820344475,
          22.904851204959858,
          23.65248527436049,
          24.42568115064915,
          25.24019727968141,
          25.86519727968141,
          26.596257885742016
         ]
        },
        {
         "customdata": [
          20,
          63,
          394,
          24,
          65,
          107,
          194,
          194,
          102,
          223,
          112,
          168,
          164,
          149,
          152,
          177,
          173,
          195,
          175,
          30,
          361,
          214,
          238,
          19,
          259,
          34,
          242,
          84,
          263,
          52,
          317,
          97,
          248,
          64,
          264
         ],
         "hovertemplate": "Year: %{x}<br>Total Medals: %{customdata}<br>Proportion Gold: %{y:.2f}<extra></extra>",
         "marker": {
          "color": "gold"
         },
         "name": "Gold",
         "type": "bar",
         "width": [
          0.003547986517651233,
          0.011176157530601383,
          0.06989533439772928,
          0.004257583821181479,
          0.011530956182366508,
          0.018981727869434094,
          0.03441546922121696,
          0.03441546922121696,
          0.018094731240021287,
          0.039560049671811245,
          0.019868724498846906,
          0.029803086748270355,
          0.02909348944474011,
          0.026432499556501687,
          0.02696469753414937,
          0.03139968068121341,
          0.030690083377683166,
          0.034592868547099524,
          0.031044882029448287,
          0.005321979776476849,
          0.06404115664360475,
          0.03796345573886819,
          0.042221039560049675,
          0.0033705871917686712,
          0.045946425403583464,
          0.006031577080007096,
          0.04293063686357992,
          0.014901543374135177,
          0.04665602270711371,
          0.009224764945893206,
          0.056235586304772045,
          0.01720773461060848,
          0.04399503281887529,
          0.011353556856483945,
          0.04683342203299627
         ],
         "x": [
          0,
          0.003547986517651233,
          0.014724144048252615,
          0.0846194784459819,
          0.08887706226716338,
          0.10040801844952989,
          0.11938974631896399,
          0.15380521554018095,
          0.18822068476139792,
          0.2063154160014192,
          0.24587546567323043,
          0.26574419017207734,
          0.2955472769203477,
          0.3246407663650878,
          0.3510732659215895,
          0.37803796345573887,
          0.4094376441369523,
          0.4401277275146354,
          0.47472059606173495,
          0.5057654780911832,
          0.5110874578676601,
          0.5751286145112648,
          0.613092070250133,
          0.6553131098101826,
          0.6586836970019513,
          0.7046301224055348,
          0.7106616994855419,
          0.7535923363491218,
          0.768493879723257,
          0.8151499024303707,
          0.8243746673762639,
          0.8806102536810358,
          0.8978179882916443,
          0.9418130211105196,
          0.9531665779670035
         ],
         "y": [
          0.55,
          1.026190476190476,
          1.3510635726371767,
          1.8510635726371767,
          2.3741404957140997,
          2.8040470377701743,
          3.3762119862237823,
          3.88136662539904,
          4.400974468536295,
          4.809046217415219,
          5.282260503129504,
          5.835831931700933,
          6.366319736578982,
          6.7891385285252905,
          7.447033265367396,
          7.989406146723328,
          8.567440828804253,
          8.936671598035023,
          9.35381445517788,
          10.15381445517788,
          10.680130244651565,
          11.096018095118854,
          11.490976078312132,
          11.806765551996342,
          12.420665165895956,
          13.155959283543016,
          13.693149366187644,
          13.824101747140025,
          14.268968667292116,
          14.44204559036904,
          14.842676505195538,
          14.966387845401723,
          15.551065264756561,
          15.707315264756561,
          16.23383041627171
         ]
        }
       ],
       "layout": {
        "barmode": "overlay",
        "template": {
         "data": {
          "bar": [
           {
            "error_x": {
             "color": "#2a3f5f"
            },
            "error_y": {
             "color": "#2a3f5f"
            },
            "marker": {
             "line": {
              "color": "#E5ECF6",
              "width": 0.5
             },
             "pattern": {
              "fillmode": "overlay",
              "size": 10,
              "solidity": 0.2
             }
            },
            "type": "bar"
           }
          ],
          "barpolar": [
           {
            "marker": {
             "line": {
              "color": "#E5ECF6",
              "width": 0.5
             },
             "pattern": {
              "fillmode": "overlay",
              "size": 10,
              "solidity": 0.2
             }
            },
            "type": "barpolar"
           }
          ],
          "carpet": [
           {
            "aaxis": {
             "endlinecolor": "#2a3f5f",
             "gridcolor": "white",
             "linecolor": "white",
             "minorgridcolor": "white",
             "startlinecolor": "#2a3f5f"
            },
            "baxis": {
             "endlinecolor": "#2a3f5f",
             "gridcolor": "white",
             "linecolor": "white",
             "minorgridcolor": "white",
             "startlinecolor": "#2a3f5f"
            },
            "type": "carpet"
           }
          ],
          "choropleth": [
           {
            "colorbar": {
             "outlinewidth": 0,
             "ticks": ""
            },
            "type": "choropleth"
           }
          ],
          "contour": [
           {
            "colorbar": {
             "outlinewidth": 0,
             "ticks": ""
            },
            "colorscale": [
             [
              0,
              "#0d0887"
             ],
             [
              0.1111111111111111,
              "#46039f"
             ],
             [
              0.2222222222222222,
              "#7201a8"
             ],
             [
              0.3333333333333333,
              "#9c179e"
             ],
             [
              0.4444444444444444,
              "#bd3786"
             ],
             [
              0.5555555555555556,
              "#d8576b"
             ],
             [
              0.6666666666666666,
              "#ed7953"
             ],
             [
              0.7777777777777778,
              "#fb9f3a"
             ],
             [
              0.8888888888888888,
              "#fdca26"
             ],
             [
              1,
              "#f0f921"
             ]
            ],
            "type": "contour"
           }
          ],
          "contourcarpet": [
           {
            "colorbar": {
             "outlinewidth": 0,
             "ticks": ""
            },
            "type": "contourcarpet"
           }
          ],
          "heatmap": [
           {
            "colorbar": {
             "outlinewidth": 0,
             "ticks": ""
            },
            "colorscale": [
             [
              0,
              "#0d0887"
             ],
             [
              0.1111111111111111,
              "#46039f"
             ],
             [
              0.2222222222222222,
              "#7201a8"
             ],
             [
              0.3333333333333333,
              "#9c179e"
             ],
             [
              0.4444444444444444,
              "#bd3786"
             ],
             [
              0.5555555555555556,
              "#d8576b"
             ],
             [
              0.6666666666666666,
              "#ed7953"
             ],
             [
              0.7777777777777778,
              "#fb9f3a"
             ],
             [
              0.8888888888888888,
              "#fdca26"
             ],
             [
              1,
              "#f0f921"
             ]
            ],
            "type": "heatmap"
           }
          ],
          "heatmapgl": [
           {
            "colorbar": {
             "outlinewidth": 0,
             "ticks": ""
            },
            "colorscale": [
             [
              0,
              "#0d0887"
             ],
             [
              0.1111111111111111,
              "#46039f"
             ],
             [
              0.2222222222222222,
              "#7201a8"
             ],
             [
              0.3333333333333333,
              "#9c179e"
             ],
             [
              0.4444444444444444,
              "#bd3786"
             ],
             [
              0.5555555555555556,
              "#d8576b"
             ],
             [
              0.6666666666666666,
              "#ed7953"
             ],
             [
              0.7777777777777778,
              "#fb9f3a"
             ],
             [
              0.8888888888888888,
              "#fdca26"
             ],
             [
              1,
              "#f0f921"
             ]
            ],
            "type": "heatmapgl"
           }
          ],
          "histogram": [
           {
            "marker": {
             "pattern": {
              "fillmode": "overlay",
              "size": 10,
              "solidity": 0.2
             }
            },
            "type": "histogram"
           }
          ],
          "histogram2d": [
           {
            "colorbar": {
             "outlinewidth": 0,
             "ticks": ""
            },
            "colorscale": [
             [
              0,
              "#0d0887"
             ],
             [
              0.1111111111111111,
              "#46039f"
             ],
             [
              0.2222222222222222,
              "#7201a8"
             ],
             [
              0.3333333333333333,
              "#9c179e"
             ],
             [
              0.4444444444444444,
              "#bd3786"
             ],
             [
              0.5555555555555556,
              "#d8576b"
             ],
             [
              0.6666666666666666,
              "#ed7953"
             ],
             [
              0.7777777777777778,
              "#fb9f3a"
             ],
             [
              0.8888888888888888,
              "#fdca26"
             ],
             [
              1,
              "#f0f921"
             ]
            ],
            "type": "histogram2d"
           }
          ],
          "histogram2dcontour": [
           {
            "colorbar": {
             "outlinewidth": 0,
             "ticks": ""
            },
            "colorscale": [
             [
              0,
              "#0d0887"
             ],
             [
              0.1111111111111111,
              "#46039f"
             ],
             [
              0.2222222222222222,
              "#7201a8"
             ],
             [
              0.3333333333333333,
              "#9c179e"
             ],
             [
              0.4444444444444444,
              "#bd3786"
             ],
             [
              0.5555555555555556,
              "#d8576b"
             ],
             [
              0.6666666666666666,
              "#ed7953"
             ],
             [
              0.7777777777777778,
              "#fb9f3a"
             ],
             [
              0.8888888888888888,
              "#fdca26"
             ],
             [
              1,
              "#f0f921"
             ]
            ],
            "type": "histogram2dcontour"
           }
          ],
          "mesh3d": [
           {
            "colorbar": {
             "outlinewidth": 0,
             "ticks": ""
            },
            "type": "mesh3d"
           }
          ],
          "parcoords": [
           {
            "line": {
             "colorbar": {
              "outlinewidth": 0,
              "ticks": ""
             }
            },
            "type": "parcoords"
           }
          ],
          "pie": [
           {
            "automargin": true,
            "type": "pie"
           }
          ],
          "scatter": [
           {
            "fillpattern": {
             "fillmode": "overlay",
             "size": 10,
             "solidity": 0.2
            },
            "type": "scatter"
           }
          ],
          "scatter3d": [
           {
            "line": {
             "colorbar": {
              "outlinewidth": 0,
              "ticks": ""
             }
            },
            "marker": {
             "colorbar": {
              "outlinewidth": 0,
              "ticks": ""
             }
            },
            "type": "scatter3d"
           }
          ],
          "scattercarpet": [
           {
            "marker": {
             "colorbar": {
              "outlinewidth": 0,
              "ticks": ""
             }
            },
            "type": "scattercarpet"
           }
          ],
          "scattergeo": [
           {
            "marker": {
             "colorbar": {
              "outlinewidth": 0,
              "ticks": ""
             }
            },
            "type": "scattergeo"
           }
          ],
          "scattergl": [
           {
            "marker": {
             "colorbar": {
              "outlinewidth": 0,
              "ticks": ""
             }
            },
            "type": "scattergl"
           }
          ],
          "scattermapbox": [
           {
            "marker": {
             "colorbar": {
              "outlinewidth": 0,
              "ticks": ""
             }
            },
            "type": "scattermapbox"
           }
          ],
          "scatterpolar": [
           {
            "marker": {
             "colorbar": {
              "outlinewidth": 0,
              "ticks": ""
             }
            },
            "type": "scatterpolar"
           }
          ],
          "scatterpolargl": [
           {
            "marker": {
             "colorbar": {
              "outlinewidth": 0,
              "ticks": ""
             }
            },
            "type": "scatterpolargl"
           }
          ],
          "scatterternary": [
           {
            "marker": {
             "colorbar": {
              "outlinewidth": 0,
              "ticks": ""
             }
            },
            "type": "scatterternary"
           }
          ],
          "surface": [
           {
            "colorbar": {
             "outlinewidth": 0,
             "ticks": ""
            },
            "colorscale": [
             [
              0,
              "#0d0887"
             ],
             [
              0.1111111111111111,
              "#46039f"
             ],
             [
              0.2222222222222222,
              "#7201a8"
             ],
             [
              0.3333333333333333,
              "#9c179e"
             ],
             [
              0.4444444444444444,
              "#bd3786"
             ],
             [
              0.5555555555555556,
              "#d8576b"
             ],
             [
              0.6666666666666666,
              "#ed7953"
             ],
             [
              0.7777777777777778,
              "#fb9f3a"
             ],
             [
              0.8888888888888888,
              "#fdca26"
             ],
             [
              1,
              "#f0f921"
             ]
            ],
            "type": "surface"
           }
          ],
          "table": [
           {
            "cells": {
             "fill": {
              "color": "#EBF0F8"
             },
             "line": {
              "color": "white"
             }
            },
            "header": {
             "fill": {
              "color": "#C8D4E3"
             },
             "line": {
              "color": "white"
             }
            },
            "type": "table"
           }
          ]
         },
         "layout": {
          "annotationdefaults": {
           "arrowcolor": "#2a3f5f",
           "arrowhead": 0,
           "arrowwidth": 1
          },
          "autotypenumbers": "strict",
          "coloraxis": {
           "colorbar": {
            "outlinewidth": 0,
            "ticks": ""
           }
          },
          "colorscale": {
           "diverging": [
            [
             0,
             "#8e0152"
            ],
            [
             0.1,
             "#c51b7d"
            ],
            [
             0.2,
             "#de77ae"
            ],
            [
             0.3,
             "#f1b6da"
            ],
            [
             0.4,
             "#fde0ef"
            ],
            [
             0.5,
             "#f7f7f7"
            ],
            [
             0.6,
             "#e6f5d0"
            ],
            [
             0.7,
             "#b8e186"
            ],
            [
             0.8,
             "#7fbc41"
            ],
            [
             0.9,
             "#4d9221"
            ],
            [
             1,
             "#276419"
            ]
           ],
           "sequential": [
            [
             0,
             "#0d0887"
            ],
            [
             0.1111111111111111,
             "#46039f"
            ],
            [
             0.2222222222222222,
             "#7201a8"
            ],
            [
             0.3333333333333333,
             "#9c179e"
            ],
            [
             0.4444444444444444,
             "#bd3786"
            ],
            [
             0.5555555555555556,
             "#d8576b"
            ],
            [
             0.6666666666666666,
             "#ed7953"
            ],
            [
             0.7777777777777778,
             "#fb9f3a"
            ],
            [
             0.8888888888888888,
             "#fdca26"
            ],
            [
             1,
             "#f0f921"
            ]
           ],
           "sequentialminus": [
            [
             0,
             "#0d0887"
            ],
            [
             0.1111111111111111,
             "#46039f"
            ],
            [
             0.2222222222222222,
             "#7201a8"
            ],
            [
             0.3333333333333333,
             "#9c179e"
            ],
            [
             0.4444444444444444,
             "#bd3786"
            ],
            [
             0.5555555555555556,
             "#d8576b"
            ],
            [
             0.6666666666666666,
             "#ed7953"
            ],
            [
             0.7777777777777778,
             "#fb9f3a"
            ],
            [
             0.8888888888888888,
             "#fdca26"
            ],
            [
             1,
             "#f0f921"
            ]
           ]
          },
          "colorway": [
           "#636efa",
           "#EF553B",
           "#00cc96",
           "#ab63fa",
           "#FFA15A",
           "#19d3f3",
           "#FF6692",
           "#B6E880",
           "#FF97FF",
           "#FECB52"
          ],
          "font": {
           "color": "#2a3f5f"
          },
          "geo": {
           "bgcolor": "white",
           "lakecolor": "white",
           "landcolor": "#E5ECF6",
           "showlakes": true,
           "showland": true,
           "subunitcolor": "white"
          },
          "hoverlabel": {
           "align": "left"
          },
          "hovermode": "closest",
          "mapbox": {
           "style": "light"
          },
          "paper_bgcolor": "white",
          "plot_bgcolor": "#E5ECF6",
          "polar": {
           "angularaxis": {
            "gridcolor": "white",
            "linecolor": "white",
            "ticks": ""
           },
           "bgcolor": "#E5ECF6",
           "radialaxis": {
            "gridcolor": "white",
            "linecolor": "white",
            "ticks": ""
           }
          },
          "scene": {
           "xaxis": {
            "backgroundcolor": "#E5ECF6",
            "gridcolor": "white",
            "gridwidth": 2,
            "linecolor": "white",
            "showbackground": true,
            "ticks": "",
            "zerolinecolor": "white"
           },
           "yaxis": {
            "backgroundcolor": "#E5ECF6",
            "gridcolor": "white",
            "gridwidth": 2,
            "linecolor": "white",
            "showbackground": true,
            "ticks": "",
            "zerolinecolor": "white"
           },
           "zaxis": {
            "backgroundcolor": "#E5ECF6",
            "gridcolor": "white",
            "gridwidth": 2,
            "linecolor": "white",
            "showbackground": true,
            "ticks": "",
            "zerolinecolor": "white"
           }
          },
          "shapedefaults": {
           "line": {
            "color": "#2a3f5f"
           }
          },
          "ternary": {
           "aaxis": {
            "gridcolor": "white",
            "linecolor": "white",
            "ticks": ""
           },
           "baxis": {
            "gridcolor": "white",
            "linecolor": "white",
            "ticks": ""
           },
           "bgcolor": "#E5ECF6",
           "caxis": {
            "gridcolor": "white",
            "linecolor": "white",
            "ticks": ""
           }
          },
          "title": {
           "x": 0.05
          },
          "xaxis": {
           "automargin": true,
           "gridcolor": "white",
           "linecolor": "white",
           "ticks": "",
           "title": {
            "standoff": 15
           },
           "zerolinecolor": "white",
           "zerolinewidth": 2
          },
          "yaxis": {
           "automargin": true,
           "gridcolor": "white",
           "linecolor": "white",
           "ticks": "",
           "title": {
            "standoff": 15
           },
           "zerolinecolor": "white",
           "zerolinewidth": 2
          }
         }
        },
        "title": {
         "text": "Marimekko Chart of Medals for USA"
        },
        "xaxis": {
         "tickmode": "array",
         "ticktext": [
          1896,
          1900,
          1904,
          1906,
          1908,
          1912,
          1920,
          1924,
          1928,
          1932,
          1936,
          1948,
          1952,
          1956,
          1960,
          1964,
          1968,
          1972,
          1976,
          1980,
          1984,
          1988,
          1992,
          1994,
          1996,
          1998,
          2000,
          2002,
          2004,
          2006,
          2008,
          2010,
          2012,
          2014,
          2016
         ],
         "tickvals": [
          0.0017739932588256165,
          0.009136065282951925,
          0.049671811247117253,
          0.08674827035657265,
          0.09464254035834664,
          0.10989888238424693,
          0.13659748092957247,
          0.17101295015078943,
          0.19726805038140857,
          0.22609544083732483,
          0.2558098279226539,
          0.28064573354621253,
          0.31009402164271777,
          0.3378570161433387,
          0.36455561468866415,
          0.3937378037963456,
          0.42478268582579387,
          0.4574241617881852,
          0.4902430370764591,
          0.5084264679794216,
          0.5431080361894625,
          0.5941103423806989,
          0.6342025900301579,
          0.656998403406067,
          0.681656909703743,
          0.7076459109455383,
          0.7321270179173319,
          0.7610431080361894,
          0.7918218910768139,
          0.8197622849033173,
          0.8524924605286499,
          0.8892141209863401,
          0.9198155047010819,
          0.9474897995387616,
          0.9765832889835017
         ],
         "title": {
          "text": "Year"
         }
        },
        "yaxis": {
         "tickformat": ".0%",
         "title": {
          "text": "Proportion of Medals"
         }
        }
       }
      }
     },
     "metadata": {},
     "output_type": "display_data"
    }
   ],
   "source": [
    "import pandas as pd\n",
    "import plotly.graph_objects as go\n",
    "\n",
    "def plot_marimekko(dataframe, country):\n",
    "    # Filter data for the specified country\n",
    "    df_country = dataframe[dataframe['NOC'] == country]\n",
    "\n",
    "    # Group by year and medal type and count the number of medals\n",
    "    medal_counts = df_country.groupby(['Year', 'Medal']).size().reset_index(name='count')\n",
    "\n",
    "    # Pivot the dataframe to have medal types as columns\n",
    "    medal_pivot = medal_counts.pivot(index='Year', columns='Medal', values='count').fillna(0)\n",
    "\n",
    "    # Calculate total medals per year and proportions for each medal type\n",
    "    medal_pivot['total'] = medal_pivot.sum(axis=1)\n",
    "    for medal in ['Gold', 'Silver', 'Bronze']:\n",
    "        medal_pivot[f'{medal}_proportion'] = medal_pivot[medal] / medal_pivot['total']\n",
    "\n",
    "    # Normalize widths based on the total medals to fit the graph size\n",
    "    total_medals = medal_pivot['total'].sum()\n",
    "    medal_pivot['width'] = medal_pivot['total'] / total_medals\n",
    "\n",
    "    # Compute the x positions and cumulative proportions\n",
    "    x_positions = [0]  # Starting position for the first bar\n",
    "    for width in medal_pivot['width'][:-1]:\n",
    "        x_positions.append(x_positions[-1] + width)\n",
    "    medal_pivot['x'] = x_positions\n",
    "\n",
    "    # Cumulative heights for stacked bar chart\n",
    "    cumulative_gold = medal_pivot['Gold_proportion'].cumsum()\n",
    "    cumulative_silver = (medal_pivot['Gold_proportion'] + medal_pivot['Silver_proportion']).cumsum()\n",
    "    cumulative_bronze = (medal_pivot['Gold_proportion'] + medal_pivot['Silver_proportion'] + medal_pivot['Bronze_proportion']).cumsum()\n",
    "\n",
    "    # Create the Marimekko chart\n",
    "    fig = go.Figure()\n",
    "\n",
    "    fig.add_trace(go.Bar(\n",
    "        x=medal_pivot['x'],\n",
    "        y=cumulative_bronze,\n",
    "        width=medal_pivot['width'],\n",
    "        marker=dict(color='brown'),\n",
    "        name='Bronze',\n",
    "        customdata=medal_pivot['total'],\n",
    "        hovertemplate='Year: %{x}<br>Total Medals: %{customdata}<br>Proportion Bronze: %{y:.2f}<extra></extra>',\n",
    "    ))\n",
    "\n",
    "    fig.add_trace(go.Bar(\n",
    "        x=medal_pivot['x'],\n",
    "        y=cumulative_silver,\n",
    "        width=medal_pivot['width'],\n",
    "        marker=dict(color='silver'),\n",
    "        name='Silver',\n",
    "        customdata=medal_pivot['total'],\n",
    "        hovertemplate='Year: %{x}<br>Total Medals: %{customdata}<br>Proportion Silver: %{y:.2f}<extra></extra>',\n",
    "    ))\n",
    "\n",
    "    fig.add_trace(go.Bar(\n",
    "        x=medal_pivot['x'],\n",
    "        y=cumulative_gold,\n",
    "        width=medal_pivot['width'],\n",
    "        marker=dict(color='gold'),\n",
    "        name='Gold',\n",
    "        customdata=medal_pivot['total'],\n",
    "        hovertemplate='Year: %{x}<br>Total Medals: %{customdata}<br>Proportion Gold: %{y:.2f}<extra></extra>',\n",
    "    ))\n",
    "\n",
    "    # Update layout for the Marimekko chart\n",
    "    fig.update_layout(\n",
    "        title=f'Marimekko Chart of Medals for {country}',\n",
    "        barmode='overlay',\n",
    "        xaxis=dict(\n",
    "            title='Year',\n",
    "            tickmode='array',\n",
    "            tickvals=medal_pivot['x'] + medal_pivot['width'] / 2,\n",
    "            ticktext=medal_pivot.index,\n",
    "        ),\n",
    "        yaxis=dict(\n",
    "            title='Proportion of Medals',\n",
    "            tickformat='.0%',\n",
    "        ),\n",
    "    )\n",
    "\n",
    "    fig.show()\n",
    "\n",
    "# Example usage\n",
    "\n",
    "df = pd.DataFrame(df)\n",
    "\n",
    "plot_marimekko(df, 'USA')\n"
   ]
  }
 ],
 "metadata": {
  "kernelspec": {
   "display_name": "infoviz",
   "language": "python",
   "name": "python3"
  },
  "language_info": {
   "codemirror_mode": {
    "name": "ipython",
    "version": 3
   },
   "file_extension": ".py",
   "mimetype": "text/x-python",
   "name": "python",
   "nbconvert_exporter": "python",
   "pygments_lexer": "ipython3",
   "version": "3.12.3"
  }
 },
 "nbformat": 4,
 "nbformat_minor": 2
}
